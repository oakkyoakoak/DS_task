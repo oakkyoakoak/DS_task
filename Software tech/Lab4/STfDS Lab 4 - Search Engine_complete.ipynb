{
 "cells": [
  {
   "cell_type": "markdown",
   "metadata": {},
   "source": [
    "# Search Engine\n",
    "\n",
    "This lab is about starting from scratch, and hence having to structure the code yourself. A specification for the program you are to implement is given below - do pay attention as misunderstandings may cost you marks! Being precise is a necessary skill for a programmer. To give an executive summary, you are to code a search engine for recipes. A data set has been provided. The search engine is to be pretty basic, returning all recipes that contain all of the provided keywords. However, the user can choose from a number of orderings depending on their food preferences, which you need to support."
   ]
  },
  {
   "cell_type": "markdown",
   "metadata": {},
   "source": [
    "## Marking and submission\n",
    "\n",
    "These lab exercises are marked, and contribute to your final grade. This lab exercise has 20 marks to earn, equivalent to 12% of your final grade.\n",
    "\n",
    "Please submit your completed workbook to the auto marker before 2021-11-14 20:00 GMT. The workbook you submit must be an .ipynb file, which is saved into the directory you're running Jupyter; alternatively you can download it from the menu above using `File -> Download As -> Notebook (.ipynb)`. Remember to save your work regularly (`Save and checkpoint` in the `File` menu, the icon of a floppy disk, or `Ctrl-S`). It is wise to verify it runs to completion with _Restart & Run All_ before submission.\n",
    "\n",
    "You must comply with the universities plagiarism guidelines: http://www.bath.ac.uk/library/help/infoguides/plagiarism.html"
   ]
  },
  {
   "cell_type": "markdown",
   "metadata": {},
   "source": [
    "## Specification\n",
    "\n",
    "The system must provide a function ``search``, with the following specification:\n",
    "```\n",
    "def search(query, ordering = 'normal', count = 10):\n",
    "  ...\n",
    "```\n",
    "\n",
    "It `print`s out the results of the search, subject to the following rules:\n",
    "1. It selects from the set of all recipes that contain __all__ of the words in the query (the positions/order of the words in the recipe are to be ignored).\n",
    "2. It orders them based on the provided ordering (a string, meaning defined below).\n",
    "3. It `print`s the top `count` matches only, preserving the order from best to worst. Must `print` just their title, one per line. Must be less than `count` if the search is specific enough that less than `count` recipes match.\n",
    "\n",
    "As an aside, do not worry about memory usage. If duplicating some data can make your code faster/neater then feel free.\n",
    "\n",
    "\n",
    "\n",
    "### Data set\n",
    "\n",
    "A file, `recipes.json` is provided, containing 17K recipes. It can be parsed into a Python data structure using the [`json`](https://docs.python.org/3/library/json.html) module. It is a list, where each recipe is a dictionary containing various keys:\n",
    "* `title` : Name of recipe; you can assume these are unique\n",
    "* `categories` : A list of tags assigned to the recipe\n",
    "* `ingredients` : What is in it, as a list\n",
    "* `directions` : List of steps to make the recipe\n",
    "* `rating` : A rating, out of 5, of how good it is\n",
    "* `calories` : How many calories it has\n",
    "* `protein` : How much protein is in it\n",
    "* `fat` : How much fat is in it\n",
    "\n",
    "Note that the data set was obtained via web scrapping and hence is noisy - every key except for `title` is missing from at least one recipe. Your code will need to cope with this.\n",
    "\n",
    "You will probably want to explore the data before starting, so you have an idea of what your code has to deal with.\n",
    "\n",
    "Data set came from https://www.kaggle.com/hugodarwood/epirecipes/version/2 though note it has been cleaned it up, by deleting duplicates and removing the really dodgy entries.\n",
    "\n",
    "\n",
    "\n",
    "### Search\n",
    "\n",
    "The search should check the following parts of the recipe (see data set description below):\n",
    "* `title`\n",
    "* `categories`\n",
    "* `ingredients`\n",
    "* `directions`\n",
    "\n",
    "For instance, given the query \"banana cheese\" you would expect \"Banana Layer Cake with Cream Cheese Frosting\" in the results. Note that case is to be ignored (\"banana\" matches \"Banana\") and the words __do not__ have to be next to one another, in the same order as the search query or even in the same part of the recipe (\"cheese\" could appear in the title and \"banana\" in the ingredients). However, all words in the search query __must__ appear somewhere.\n",
    "\n",
    "\n",
    "\n",
    "### Tokenisation\n",
    "\n",
    "This is the term for breaking a sentence into each individual word (token). Traditionally done using regular expressions, and Python does have the `re` module, but there is no need to do that here (`re` can be quite fiddly). For matching words your tokenisation must follow the following steps:\n",
    "1. Convert all punctuation and digits into spaces. For punctuation use the set in [`string.punctuation`](https://docs.python.org/3/library/string.html#string.punctuation), for digits [`string.digits`](https://docs.python.org/3/library/string.html#string.digits). You may find [`translate()`](https://docs.python.org/3/library/stdtypes.html#str.translate) interesting!\n",
    "2. [`split()`](https://docs.python.org/3/library/stdtypes.html#str.split) to extract individual tokens.\n",
    "3. Ignore any token that is less than $3$ characters long.\n",
    "4. Make tokens lowercase.\n",
    "\n",
    "When matching words for search (above) or ordering (below) it's only a match if you match an entire token. There are many scenarios where this simple approach will fail, but it's good enough for this exercise. The auto marker will be checking the above is followed! When doing a search the code should ignore terms in the search string that fail the above requirements.\n",
    "\n",
    "\n",
    "\n",
    "### Ordering\n",
    "\n",
    "There are three ordering modes to select from, each indicated by passing a string to the `search` function:\n",
    "* `normal` - Based simply on the number of times the search terms appear in the recipe. A score is calculated and the order is highest to lowest. The score sums the following terms (repeated words are counted multiple times, i.e. \"cheese cheese cheese\" is $3$ matches to \"cheese\"):\n",
    "    * $8 \\times$ Number of times a query word appears in the title\n",
    "    * $4 \\times$ Number of times a query word appears in the categories\n",
    "    * $2 \\times$ Number of times a query word appears in the ingredients\n",
    "    * $1 \\times$ Number of times a query word appears in the directions\n",
    "    * The `rating` of the recipe (if not available assume $0$)\n",
    "\n",
    "* `simple` - Tries to minimise the complexity of the recipe, for someone who is in a rush. Orders to minimise the number of ingredients multiplied by the numbers of steps in the directions.\n",
    "\n",
    "* `healthy` - Order from lowest to highest by this cost function:\n",
    "$$\\frac{|\\texttt{calories} - 510n|}{510} + 2\\frac{|\\texttt{protein} - 18n|}{18} + 4\\frac{|\\texttt{fat} - 150n|}{150}$$\n",
    "Where $n \\in \\mathbb{N}^+$ is selected to minimise the cost ($n$ is a positive integer and $n=0$ is not allowed). This can be understood in terms of the numbers $510$, $18$ and $150$ being a third of the recommended daily intake (three meals per day) for an average person, and $n$ being the number of whole meals the person gets out of cooking/making the recipe. So this tries to select recipes that neatly divide into a set of meals that are the right amount to consume for a healthy, balanced diet. Try not to overthink the optimisation of $n$, as it's really quite simple to do!\n",
    "\n",
    "To clarify the use of the ordering string, to get something healthy that contains cheese you might call `search('cheese', 'healthy')`. In the case of a recipe that is missing a key in its dictionary the rules are different for each search mode:\n",
    "* `normal` - Consider a missing entry in the recipe (e.g. no `ingredients` are provided) to simply mean that entry can't match any search words (because it has none!), but the item is still eligible for inclusion in the results, assuming it can match the search with a different entry.\n",
    "* `simple` - If a recipe is missing either `ingredients` or `directions` it is dropped from such a search result. Because the data is messy if either of these lists is of length $1$ it should be assumed that the list extraction has failed and the recipe is to also be dropped from the search results.\n",
    "* `healthy` - If any of `calories`, `protein` or `fat` is missing the recipe should be dropped from the result.\n",
    "\n",
    "\n",
    "\n",
    "### Extra\n",
    "\n",
    "You may find the [_inverted index_](https://en.wikipedia.org/wiki/Inverted_index) interesting. It's a data structure used by search engines. For each word a user may search for this contains a list of all documents (recipes) that contain the word. This may take a little effort to understand, but the resulting code will be both faster and neater."
   ]
  },
  {
   "cell_type": "markdown",
   "metadata": {},
   "source": [
    "## Advice\n",
    "\n",
    "* Don't just start coding: Make a plan and work out what you intend to do.\n",
    "* Think about structure, as messy code leads to mistakes.\n",
    "* Plan your data structures. Don't be afraid to use sheets of paper if that works for you!\n",
    "* Don't duplicate code, put it in a function/method instead.\n",
    "\n",
    "* Divide and conquer. Break the system into parts that can implemented with minimal dependency on the rest. Functions or OOP are both suitable for doing this.\n",
    "* Test early. Verify the individual parts work before trying to combine them. Factor this into the order you implement the parts of the system - don't implement something you are going to struggle to test before implementing, and verifying, other parts.\n",
    "* Do not try and do a 'big bang', where you get it all working at once. Instead, get it working with features missing, then add those features in, one at a time.\n",
    "\n",
    "* Keep things as simple as possible. Avoid long functions/methods.\n",
    "* Include comments, as a form of planning and for your own sanity!\n",
    "* Regularly reset the kernel and rerun the entire workbook. It is very easy to break something but not notice, because the correct version remains in memory."
   ]
  },
  {
   "cell_type": "markdown",
   "metadata": {},
   "source": [
    "## Marks\n",
    "* __20 marks__: For many different _unit tests_ that will be run on `search`. They will cover all of the details in the above specification!\n",
    "    * One test checks that it's faster than $0.1$ seconds on average (on the computer which runs the auto marker, which is quite fast) to do a search, so try not to be too inefficient (it ignores any time your notebook spends building data structures to be used by `search`). Note that the validation implementation comes in at $0.001$ seconds per search (after $5.5$ seconds of preparation), so this is very achievable!\n",
    "    * You may want to look into Python's `set()` object, as it is useful for _one_ of the possible ways to implement this.\n",
    "    * There will be sorting. The [Sorting how to](https://docs.python.org/3/howto/sorting.html) may help.\n",
    "    * The auto marker does give some feedback, and you can run it as many times as you want. Don't be afraid to test an incomplete or semi-broken version of your code if stuck or unsure. It may help!\n",
    "    * The validation implementation is 104 lines of code split over 5 cells (including white space for clarity and comments). Coded by someone who probably has much more experience than you, so you shouldn't aim to match this, but it's a good clue: If you find yourself at 500 lines you may want to stop and think some more! (line count does not include testing code, which is about the same amount again)"
   ]
  },
  {
   "cell_type": "code",
   "execution_count": 1,
   "metadata": {},
   "outputs": [],
   "source": [
    "import json,string,time\n",
    "import numpy as np"
   ]
  },
  {
   "cell_type": "code",
   "execution_count": 2,
   "metadata": {},
   "outputs": [],
   "source": [
    "def json_to_dict(name):\n",
    "    with open(name) as file:\n",
    "        data=json.load(file)\n",
    "    all_key=[*data[1].keys()]\n",
    "    all_key_cd=all_key[1:4]\n",
    "    all_key_number=all_key[4:8]\n",
    "\n",
    "    for s in range(len(data)):\n",
    "        for z in all_key_number:\n",
    "            if z in data[s] :\n",
    "                pass\n",
    "            else:\n",
    "                data[s][z]=0\n",
    "\n",
    "    lenght_ing=0\n",
    "    lenght_dir=0\n",
    "    for i in range(len(data)):\n",
    "        \n",
    "        if 'categories' in data[i]:\n",
    "            pass\n",
    "        else:\n",
    "            data[i]['categories']=[]\n",
    "        \n",
    "        if 'ingredients' in data[i]:\n",
    "            pass\n",
    "        else:\n",
    "            data[i]['ingredients']=[]\n",
    "        if 'directions' in data[i]:\n",
    "            pass\n",
    "        else:\n",
    "            data[i]['directions']=[]\n",
    "        \n",
    "        if 'ingredients' in data[i]:\n",
    "            data[i]['leng_ing']=len(data[i]['ingredients'])\n",
    "        else:\n",
    "            data[i]['leng_ing']=0\n",
    "\n",
    "        if 'directions' in data[i]:\n",
    "            data[i]['leng_dir']=len(data[i]['directions'])\n",
    "        else:\n",
    "            data[i]['leng_dir']=0\n",
    "\n",
    "        \n",
    "        data[i]['index']=i\n",
    "        \n",
    "    for z in all_key_cd:\n",
    "        for q in range(len(data)):\n",
    "            i=' '.join(data[q][z])\n",
    "            data[q][z]=i\n",
    "    \n",
    "    for w in range(len(data)):\n",
    "        for q in all_key_cd:\n",
    "            i=data[w][q]\n",
    "            new_one=i.translate(i.maketrans(replace_dict)).lower().split()\n",
    "            new_one_adjust=[x for x in new_one if len(x)>=3] \n",
    "            data[w][q]=new_one_adjust\n",
    "\n",
    "    for j in range(len(data)):\n",
    "        i=data[j]['title']\n",
    "        new_one=i.translate(i.maketrans(replace_dict)).lower().split()\n",
    "        new_one_adjust=[x for x in new_one if len(x)>=3]\n",
    "        data[j]['token_title']=new_one_adjust\n",
    "    \n",
    "    return data\n"
   ]
  },
  {
   "cell_type": "code",
   "execution_count": 3,
   "metadata": {},
   "outputs": [],
   "source": [
    "def preparing_data(data):\n",
    "    inverse_index=[]\n",
    "    for i in range(len(data)):\n",
    "        menu_dict=data[i]\n",
    "        dict_complete={}\n",
    "        for k in menu_dict:\n",
    "            dict_complete['full_title']=menu_dict['title']\n",
    "            if k == 'title':\n",
    "                for word in menu_dict['token_title']:\n",
    "                    if word in dict_complete:\n",
    "                        dict_complete[word]+=8\n",
    "                    else:    \n",
    "                        dict_complete[word]=8\n",
    "            elif k=='categories':\n",
    "                for word in menu_dict[k]:\n",
    "                    if word in dict_complete:\n",
    "                        dict_complete[word]+=4\n",
    "                    else:\n",
    "                        dict_complete[word]=4\n",
    "            elif k=='ingredients':\n",
    "                for word in menu_dict[k]:\n",
    "                    if word in dict_complete:\n",
    "                        dict_complete[word]+=2\n",
    "                    else:\n",
    "                        dict_complete[word]=2\n",
    "            elif k=='directions':\n",
    "                for word in menu_dict[k]:\n",
    "                    if word in dict_complete:\n",
    "                        dict_complete[word]+=1\n",
    "                    else:\n",
    "                        dict_complete[word]=1\n",
    "            else:\n",
    "                dict_complete[k]=menu_dict[k]\n",
    "        inverse_index.append(dict_complete)\n",
    "    return inverse_index\n",
    "        \n",
    "    \n",
    "        \n",
    "                    "
   ]
  },
  {
   "cell_type": "code",
   "execution_count": 4,
   "metadata": {},
   "outputs": [],
   "source": [
    "def normal(query,count):\n",
    "    query=query.translate(query.maketrans(replace_dict)).lower().split()\n",
    "    query=[x for x in query if len(x)>=3]\n",
    "    menu_index=[]\n",
    "    for i in range(len(inverse_data)) :\n",
    "        if all(a in inverse_data[i] for a in query) :\n",
    "            menu_index.append(inverse_data[i]['index'])\n",
    "    ranking_dict={}\n",
    "    for i in menu_index:\n",
    "        score=0\n",
    "        for j in query:\n",
    "            score+=inverse_data[i][j]\n",
    "        score+=inverse_data[i]['rating']\n",
    "        ranking_dict[i]=score\n",
    "    sorted_ranking={a:b for a,b in sorted(ranking_dict.items(), key=lambda item:item[1], reverse=True)}\n",
    "    list_rank=[]\n",
    "    number=0\n",
    "    for c in sorted_ranking.keys():\n",
    "        if number == count:\n",
    "            break\n",
    "        else:list_rank.append(c)\n",
    "        number+=1\n",
    "    return list_rank"
   ]
  },
  {
   "cell_type": "code",
   "execution_count": 12,
   "metadata": {},
   "outputs": [],
   "source": [
    "def simple(query,count):\n",
    "    query=query.translate(query.maketrans(replace_dict)).lower().split()\n",
    "    query=[x for x in query if len(x)>=3]\n",
    "    menu_index=[]\n",
    "    for i in range(len(inverse_data)) :\n",
    "        if all(a in inverse_data[i] for a in query) :\n",
    "            menu_index.append(inverse_data[i]['index'])\n",
    "    print(menu_index)\n",
    "    ranking_dict={}\n",
    "    for i in menu_index:\n",
    "        score_dir=inverse_data[i]['leng_dir']\n",
    "        score_ing=inverse_data[i]['leng_ing']\n",
    "        if score_dir==0 or score_dir==1:\n",
    "            continue\n",
    "        if score_ing==0 or score_ing==1:\n",
    "            continue\n",
    "        score=score_dir*score_ing\n",
    "        ranking_dict[i]=score\n",
    "    sorted_ranking={a:b for a,b in sorted(ranking_dict.items(), key=lambda item:item[1])}\n",
    "    list_rank=[]\n",
    "    number=0\n",
    "    for c in sorted_ranking.keys():\n",
    "        if number == count:\n",
    "            break\n",
    "        else:list_rank.append(c)\n",
    "        number+=1\n",
    "    return list_rank"
   ]
  },
  {
   "cell_type": "code",
   "execution_count": 13,
   "metadata": {},
   "outputs": [],
   "source": [
    "def healthy(query,count):\n",
    "    query=query.translate(query.maketrans(replace_dict)).lower().split()\n",
    "    query=[x for x in query if len(x)>=3]\n",
    "    menu_index=[]\n",
    "    for i in range(len(inverse_data)) :\n",
    "        if all(a in inverse_data[i] for a in query) :\n",
    "            menu_index.append(inverse_data[i]['index'])\n",
    "    ranking_dict={}\n",
    "    for j in menu_index:\n",
    "        cal=inverse_data[j]['calories']\n",
    "        pro=inverse_data[j]['protein']\n",
    "        fat=inverse_data[j]['fat']\n",
    "        if cal==0 or cal==1:\n",
    "            continue\n",
    "        if pro==0 or pro==1:\n",
    "            continue\n",
    "        if fat==0 or fat==1:\n",
    "            continue\n",
    "\n",
    "        score=np.abs(cal - 510)/510 +np.abs(pro-18)/9 + np.abs(fat-150)/150*4\n",
    "        ranking_dict[j]=score\n",
    "    sorted_ranking={a:b for a,b in sorted(ranking_dict.items(), key=lambda item:item[1])}\n",
    "    list_rank=[]\n",
    "    number=0\n",
    "    for c in sorted_ranking.keys():\n",
    "        if number == count:\n",
    "            break\n",
    "        else:list_rank.append(c)\n",
    "        number+=1\n",
    "    return list_rank"
   ]
  },
  {
   "cell_type": "code",
   "execution_count": 14,
   "metadata": {},
   "outputs": [],
   "source": [
    "def search(query,ordering='normal',count=10):      \n",
    "    \n",
    "    \n",
    "    if ordering=='normal':\n",
    "        ranking=normal(query,count)\n",
    "    elif ordering=='simple':\n",
    "        ranking=simple(query,count)\n",
    "    elif ordering=='healthy':\n",
    "        ranking=healthy(query,count)\n",
    "\n",
    "    for c in ranking:\n",
    "        print(inverse_data[c]['full_title'])\n"
   ]
  },
  {
   "cell_type": "code",
   "execution_count": 15,
   "metadata": {},
   "outputs": [],
   "source": [
    "punc=string.punctuation\n",
    "digit=string.digits\n",
    "replace_dict={}\n",
    "for i in punc:\n",
    "    replace_dict[i]=' '\n",
    "for j in digit:\n",
    "    replace_dict[j]=' '\n",
    "data=json_to_dict('recipes.json')\n",
    "inverse_data=preparing_data(data)\n"
   ]
  },
  {
   "cell_type": "code",
   "execution_count": 28,
   "metadata": {},
   "outputs": [
    {
     "name": "stdout",
     "output_type": "stream",
     "text": [
      "Jumbleberry Pie (Summer Berry Pie) \n",
      "Frontera Grill's Chocolate Pecan Pie with Coffee Whipped Cream \n",
      "Waiting for Wilma Pie (Chocolate Caramel Pecan Pie) \n",
      "Double-Decker Chocolate and Cherry-Raspberry Birthday Pie \n",
      "Classic Apple Pie \n",
      "Nectarine-Raspberry Pie \n",
      "Pumpkin Pie \"pumpkin\" \n",
      "Blueberry-Buttermilk Chess Pie \n",
      "Wende's Blue-Ribbon Apple Pie with Candied Ginger \n",
      "Cherry-Bourbon Pie \n",
      "Black Bottom Oatmeal Pie \n",
      "Concord Grape and Pear Pie \n",
      "Peach Lattice Pie With Bourbon Caramel \n",
      "Deep-Dish Wild Blueberry Pie \n",
      "Peach Blackberry Pie \n",
      "Peach Lattice Pie \n",
      "Blueberry Crumble Pie \n",
      "Lemon Buttermilk Pie with Saffron \n",
      "Bourbon-Orange Pecan Pie with Bourbon Cream \n",
      "Pear-Cranberry Mincemeat Lattice Pie \n"
     ]
    }
   ],
   "source": [
    "search('pie','normal',20)"
   ]
  },
  {
   "cell_type": "code",
   "execution_count": 30,
   "metadata": {},
   "outputs": [
    {
     "name": "stdout",
     "output_type": "stream",
     "text": [
      "Chocolate Cake with Milk Chocolate-Peanut Butter Frosting and Peanut Butter Brittle \n",
      "Peanut Butter Tart with Caramel-Peanut Glaze \n",
      "Peanut Butter Cake with Chocolate-Peanut Butter Icing \n",
      "Peanut Butter Banana Cream Pie \n",
      "Banana Cupcakes with Peanut Butter Frosting \n",
      "Chocolate-Peanut Butter Cake with Cream Cheese and Butterfinger Frosting \n",
      "Peanut Butter Cheesecake with Peanut Brittle \n",
      "Caramel-Peanut Butter Mousse Tart \n",
      "Milk Chocolate-Peanut Butter Sandwich Cookies \n",
      "Peanut Butter and Jelly Bars \n",
      "Peanut Dacquoise with Peanut Butter Mousse \n",
      "Chocolate Peanut Butter Pretzel Cupcakes \n",
      "Frozen Peanut Butter Pie with Candied Bacon \n",
      "Banana-Chocolate Chip Cake With Peanut Butter Frosting \n",
      "Salted Peanut Butter and Jelly Blondies \n",
      "Crispy Peanut Butter Snack Cake \n",
      "Giant Chocolate Peanut Butter Cup \n",
      "Peanut Butter-Berry Pie \n",
      "Chocolate Chip-Peanut Butter Cookies \n",
      "Peanut Butter Cheesecake with Caramelized Banana Topping \n"
     ]
    }
   ],
   "source": [
    "search('peanut butter','normal',20)"
   ]
  },
  {
   "cell_type": "code",
   "execution_count": 11,
   "metadata": {},
   "outputs": [
    {
     "data": {
      "text/plain": [
       "{'!': ' ',\n",
       " '\"': ' ',\n",
       " '#': ' ',\n",
       " '$': ' ',\n",
       " '%': ' ',\n",
       " '&': ' ',\n",
       " \"'\": ' ',\n",
       " '(': ' ',\n",
       " ')': ' ',\n",
       " '*': ' ',\n",
       " '+': ' ',\n",
       " ',': ' ',\n",
       " '-': ' ',\n",
       " '.': ' ',\n",
       " '/': ' ',\n",
       " ':': ' ',\n",
       " ';': ' ',\n",
       " '<': ' ',\n",
       " '=': ' ',\n",
       " '>': ' ',\n",
       " '?': ' ',\n",
       " '@': ' ',\n",
       " '[': ' ',\n",
       " '\\\\': ' ',\n",
       " ']': ' ',\n",
       " '^': ' ',\n",
       " '_': ' ',\n",
       " '`': ' ',\n",
       " '{': ' ',\n",
       " '|': ' ',\n",
       " '}': ' ',\n",
       " '~': ' ',\n",
       " '0': ' ',\n",
       " '1': ' ',\n",
       " '2': ' ',\n",
       " '3': ' ',\n",
       " '4': ' ',\n",
       " '5': ' ',\n",
       " '6': ' ',\n",
       " '7': ' ',\n",
       " '8': ' ',\n",
       " '9': ' '}"
      ]
     },
     "execution_count": 11,
     "metadata": {},
     "output_type": "execute_result"
    }
   ],
   "source": [
    "replace_dict"
   ]
  },
  {
   "cell_type": "code",
   "execution_count": 17,
   "metadata": {},
   "outputs": [
    {
     "name": "stdout",
     "output_type": "stream",
     "text": [
      "Chocolate Cake with Milk Chocolate-Peanut Butter Frosting and Peanut Butter Brittle \n",
      "Peanut Butter Tart with Caramel-Peanut Glaze \n",
      "Peanut Butter Cake with Chocolate-Peanut Butter Icing \n",
      "Peanut Butter Banana Cream Pie \n",
      "Banana Cupcakes with Peanut Butter Frosting \n",
      "Chocolate-Peanut Butter Cake with Cream Cheese and Butterfinger Frosting \n",
      "Peanut Butter Cheesecake with Peanut Brittle \n"
     ]
    }
   ],
   "source": [
    "search('peanut butter','normal',7)"
   ]
  },
  {
   "cell_type": "code",
   "execution_count": 31,
   "metadata": {},
   "outputs": [
    {
     "name": "stdout",
     "output_type": "stream",
     "text": [
      "3028\n"
     ]
    }
   ],
   "source": [
    "menu_index=[]\n",
    "for i in range(len(inverse_data)) :\n",
    "    if all(a in inverse_data[i] for a in ['peanut','butter']) :\n",
    "        menu_index.append(inverse_data[i]['index'])\n",
    "print(len(menu_index))"
   ]
  },
  {
   "cell_type": "code",
   "execution_count": 24,
   "metadata": {},
   "outputs": [
    {
     "data": {
      "text/plain": [
       "17730"
      ]
     },
     "execution_count": 24,
     "metadata": {},
     "output_type": "execute_result"
    }
   ],
   "source": [
    "menu_index[-1]"
   ]
  },
  {
   "cell_type": "code",
   "execution_count": 26,
   "metadata": {},
   "outputs": [
    {
     "data": {
      "text/plain": [
       "17734"
      ]
     },
     "execution_count": 26,
     "metadata": {},
     "output_type": "execute_result"
    }
   ],
   "source": [
    "len(inverse_data)"
   ]
  },
  {
   "cell_type": "code",
   "execution_count": null,
   "metadata": {},
   "outputs": [],
   "source": []
  }
 ],
 "metadata": {
  "kernelspec": {
   "display_name": "Python 3",
   "language": "python",
   "name": "python3"
  },
  "language_info": {
   "codemirror_mode": {
    "name": "ipython",
    "version": 3
   },
   "file_extension": ".py",
   "mimetype": "text/x-python",
   "name": "python",
   "nbconvert_exporter": "python",
   "pygments_lexer": "ipython3",
   "version": "3.8.8"
  }
 },
 "nbformat": 4,
 "nbformat_minor": 2
}
