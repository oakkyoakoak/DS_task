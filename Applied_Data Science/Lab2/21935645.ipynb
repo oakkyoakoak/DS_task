{
 "cells": [
  {
   "cell_type": "markdown",
   "id": "2929b933",
   "metadata": {},
   "source": [
    "# Applied Data Science Lab 2 : Sentiment Analysis"
   ]
  },
  {
   "cell_type": "markdown",
   "id": "8200737e",
   "metadata": {},
   "source": [
    "# Task 1"
   ]
  },
  {
   "cell_type": "markdown",
   "id": "f989d8a0",
   "metadata": {},
   "source": [
    "We are provided with large data set for Ford motor vehecles which is available moodle. Each review is labelled 'Pos or 'Neg' to indicate whether review has benn assessed as positive or negative. There are 1,382 reviews in CSV file (car_reviews.csv) , 691 of which are positive and 691 of which are negative\n",
    "\n",
    "\n",
    "Task 1 can be established utilising the following three steps:\n",
    "\n",
    "1. Preprocessing data\n",
    "2. Naive Bayes (Machine learing part)\n",
    "3. Summary performance (assess accuray and confusion metric)"
   ]
  },
  {
   "cell_type": "code",
   "execution_count": 1,
   "id": "58dc2ea6",
   "metadata": {},
   "outputs": [],
   "source": [
    "import csv\n",
    "from nltk.corpus import stopwords\n",
    "import string\n",
    "from nltk.stem import PorterStemmer\n",
    "from sklearn.model_selection import train_test_split\n",
    "import numpy as np\n",
    "from sklearn.metrics import confusion_matrix, accuracy_score\n",
    "import pandas as pd\n",
    "from sklearn.feature_extraction.text import CountVectorizer\n",
    "import matplotlib.pyplot as plt\n",
    "import seaborn as sns\n",
    "import numpy"
   ]
  },
  {
   "cell_type": "markdown",
   "id": "b0b6692b",
   "metadata": {},
   "source": [
    "##  1. Preprocessing data"
   ]
  },
  {
   "cell_type": "markdown",
   "id": "e6807b13",
   "metadata": {},
   "source": [
    "-- There are two columns in the data: sentiment (label) and reviews (feature). I created the adjust sentence function to prepare the data for further analysis. It consists of four phases to alter the sentence as shown below (or see def adust sentence for more information).\n",
    "\n",
    "5 Steps (3 adjustments)\n",
    "1. Eliminate the punctuation and number\n",
    "2. Change all alphabhets to lowercase and split the sentence to list of words contain in it\n",
    "3. Eliminate Stopwords in sentecnce\n",
    "4. Tokennize the words. Considering only word has more than 3 letters\n",
    "5. Stem the word\n",
    "\n",
    "In the next box, I would explain and describe in detail how each process works."
   ]
  },
  {
   "cell_type": "markdown",
   "id": "009c1528",
   "metadata": {},
   "source": [
    "## Function for Preprocessing Data"
   ]
  },
  {
   "cell_type": "code",
   "execution_count": 2,
   "id": "5b013197",
   "metadata": {},
   "outputs": [],
   "source": [
    "def adjust_sentence(sentence):    \n",
    "    data=sentence.translate(sentence.maketrans(replace_dict)).lower().split() #First adjusment (Step 1&2)\n",
    "    data=[x for x in data if x not in StopWords and len(x)>=3] #Second adjustment (Step 3&4)\n",
    "    data=[ps.stem(y) for y in data] # Thrid adjustment Step(5)\n",
    "    return data\n",
    "\n"
   ]
  },
  {
   "cell_type": "markdown",
   "id": "d8304d97",
   "metadata": {},
   "source": [
    "### --Preprocessing Data (Step 1&2) :Remove punctuation and number, Tranfers to lowercase and Split to list"
   ]
  },
  {
   "cell_type": "markdown",
   "id": "0f6b6b67",
   "metadata": {},
   "source": [
    "I made the dictionary of punctuation and number for replace it by ' '. In the first line of code in function adjust_sentence, (https://docs.python.org/3/library/string.html#string.digits). i apply [`translate()`] with maketrans() to replace punction , then change to lowercase and split to list respectively"
   ]
  },
  {
   "cell_type": "code",
   "execution_count": 3,
   "id": "e39358d6",
   "metadata": {},
   "outputs": [],
   "source": [
    "###### Example for step 1\n",
    "\n",
    "with open('car_reviews.csv') as f:\n",
    "        \n",
    "        reader = csv.reader(f)\n",
    "        next(reader)\n",
    "        data = []\n",
    "        for row in reader:\n",
    "            \n",
    "            data.append(row)   \n",
    "            \n",
    "example = data.copy()"
   ]
  },
  {
   "cell_type": "code",
   "execution_count": 4,
   "id": "ff54a86f",
   "metadata": {},
   "outputs": [],
   "source": [
    "punc=string.punctuation\n",
    "digit=string.digits\n",
    "punc_dict=punc+digit\n",
    "replace_dict={}\n",
    "for i in punc_dict:\n",
    "    replace_dict[i]=' '\n"
   ]
  },
  {
   "cell_type": "markdown",
   "id": "0f8283e7",
   "metadata": {},
   "source": [
    "### Example : First adjustment (step 1&2)"
   ]
  },
  {
   "cell_type": "code",
   "execution_count": 5,
   "id": "51f8e6ed",
   "metadata": {},
   "outputs": [
    {
     "name": "stdout",
     "output_type": "stream",
     "text": [
      "First review\n",
      " In 1992 we bought a new Taurus and we really loved it  So in 1999 we decided to try a new Taurus  I did not care for the style of the newer version  but bought it anyway I do not like the new car half as much as i liked our other one  Thee dash is much to deep and takes up a lot of room  I do not find the seats as comfortable and the way the sides stick out further than the strip that should protect your card from denting It drives nice and has good pick up  But you can not see the hood at all from the driver seat and judging and parking is difficult  It has a very small gas tank I would not buy a Taurus if I had it to do over  I would rather have my 1992 back  I don t think the style is as nice as the the 1992  and it was a mistake to change the style  In less than a month we had a dead battery and a flat tire \n"
     ]
    }
   ],
   "source": [
    "first_review= example[0][1]\n",
    "print('First review')\n",
    "print(first_review)"
   ]
  },
  {
   "cell_type": "code",
   "execution_count": 6,
   "id": "ca22c1b0",
   "metadata": {},
   "outputs": [
    {
     "name": "stdout",
     "output_type": "stream",
     "text": [
      "After apply step 1 &2 on first review\n",
      "['in', 'we', 'bought', 'a', 'new', 'taurus', 'and', 'we', 'really', 'loved', 'it', 'so', 'in', 'we', 'decided', 'to', 'try', 'a', 'new', 'taurus', 'i', 'did', 'not', 'care', 'for', 'the', 'style', 'of', 'the', 'newer', 'version', 'but', 'bought', 'it', 'anyway', 'i', 'do', 'not', 'like', 'the', 'new', 'car', 'half', 'as', 'much', 'as', 'i', 'liked', 'our', 'other', 'one', 'thee', 'dash', 'is', 'much', 'to', 'deep', 'and', 'takes', 'up', 'a', 'lot', 'of', 'room', 'i', 'do', 'not', 'find', 'the', 'seats', 'as', 'comfortable', 'and', 'the', 'way', 'the', 'sides', 'stick', 'out', 'further', 'than', 'the', 'strip', 'that', 'should', 'protect', 'your', 'card', 'from', 'denting', 'it', 'drives', 'nice', 'and', 'has', 'good', 'pick', 'up', 'but', 'you', 'can', 'not', 'see', 'the', 'hood', 'at', 'all', 'from', 'the', 'driver', 'seat', 'and', 'judging', 'and', 'parking', 'is', 'difficult', 'it', 'has', 'a', 'very', 'small', 'gas', 'tank', 'i', 'would', 'not', 'buy', 'a', 'taurus', 'if', 'i', 'had', 'it', 'to', 'do', 'over', 'i', 'would', 'rather', 'have', 'my', 'back', 'i', 'don', 't', 'think', 'the', 'style', 'is', 'as', 'nice', 'as', 'the', 'the', 'and', 'it', 'was', 'a', 'mistake', 'to', 'change', 'the', 'style', 'in', 'less', 'than', 'a', 'month', 'we', 'had', 'a', 'dead', 'battery', 'and', 'a', 'flat', 'tire']\n"
     ]
    }
   ],
   "source": [
    "first_review_adjust1=first_review.translate(first_review.maketrans(replace_dict)).lower().split()\n",
    "print('After apply step 1 &2 on first review')\n",
    "print(first_review_adjust1)"
   ]
  },
  {
   "cell_type": "markdown",
   "id": "7e76a470",
   "metadata": {},
   "source": [
    "### --Preprocessing data (Step 3&4) : Eliminate Stop words and Tokenise"
   ]
  },
  {
   "cell_type": "markdown",
   "id": "13ea062e",
   "metadata": {},
   "source": [
    "A term in a stop word that is filtered out the word in the processing phase is referred to as a stop word (text)  \n",
    "\n",
    "I combine the two steps of eliminating the stop word and tokenizing in the second line of the adjust sentence function. I use the same criteria with my search engine (Software lab4), which eliminates any words with a score of less than 3. As a result, my second code line will continue to maintain words that aren't listed as Stop words but have more than three letters."
   ]
  },
  {
   "cell_type": "code",
   "execution_count": 7,
   "id": "6080bc7f",
   "metadata": {},
   "outputs": [],
   "source": [
    "StopWords = set(stopwords.words('english'))\n",
    "first_review_adjust2=[x for x in first_review_adjust1 if x not in StopWords and len(x)>=3]"
   ]
  },
  {
   "cell_type": "code",
   "execution_count": 8,
   "id": "1a9cca31",
   "metadata": {},
   "outputs": [
    {
     "name": "stdout",
     "output_type": "stream",
     "text": [
      "After apply step 3 &4 on first review\n",
      "['bought', 'new', 'taurus', 'really', 'loved', 'decided', 'try', 'new', 'taurus', 'care', 'style', 'newer', 'version', 'bought', 'anyway', 'like', 'new', 'car', 'half', 'much', 'liked', 'one', 'thee', 'dash', 'much', 'deep', 'takes', 'lot', 'room', 'find', 'seats', 'comfortable', 'way', 'sides', 'stick', 'strip', 'protect', 'card', 'denting', 'drives', 'nice', 'good', 'pick', 'see', 'hood', 'driver', 'seat', 'judging', 'parking', 'difficult', 'small', 'gas', 'tank', 'would', 'buy', 'taurus', 'would', 'rather', 'back', 'think', 'style', 'nice', 'mistake', 'change', 'style', 'less', 'month', 'dead', 'battery', 'flat', 'tire']\n"
     ]
    }
   ],
   "source": [
    "print('After apply step 3 &4 on first review')\n",
    "print(first_review_adjust2)"
   ]
  },
  {
   "cell_type": "markdown",
   "id": "73f7ec7a",
   "metadata": {},
   "source": [
    "#### Comparison : First adjustment (step1&2) and Second adjustment (add on step3&4)"
   ]
  },
  {
   "cell_type": "markdown",
   "id": "2cab2bcf",
   "metadata": {},
   "source": [
    "After apply step 1 &2 on first review\n",
    "['in', 'we', 'bought', 'a', 'new', 'taurus', 'and', 'we', 'really', 'loved', 'it', 'so', 'in', 'we', 'decided', 'to', 'try', 'a', 'new', 'taurus', 'i', 'did', 'not', 'care', 'for', 'the', 'style', 'of', 'the', 'newer', 'version', 'but', 'bought', 'it', 'anyway', 'i', 'do', 'not', 'like', 'the', 'new', 'car', 'half', 'as', 'much', 'as', 'i', 'liked', 'our', 'other', 'one', 'thee', 'dash', 'is', 'much', 'to', 'deep', 'and', 'takes', 'up', 'a', 'lot', 'of', 'room', 'i', 'do', 'not', 'find', 'the', 'seats', 'as', 'comfortable', 'and', 'the', 'way', 'the', 'sides', 'stick', 'out', 'further', 'than', 'the', 'strip', 'that', 'should', 'protect', 'your', 'card', 'from', 'denting', 'it', 'drives', 'nice', 'and', 'has', 'good', 'pick', 'up', 'but', 'you', 'can', 'not', 'see', 'the', 'hood', 'at', 'all', 'from', 'the', 'driver', 'seat', 'and', 'judging', 'and', 'parking', 'is', 'difficult', 'it', 'has', 'a', 'very', 'small', 'gas', 'tank', 'i', 'would', 'not', 'buy', 'a', 'taurus', 'if', 'i', 'had', 'it', 'to', 'do', 'over', 'i', 'would', 'rather', 'have', 'my', 'back', 'i', 'don', 't', 'think', 'the', 'style', 'is', 'as', 'nice', 'as', 'the', 'the', 'and', 'it', 'was', 'a', 'mistake', 'to', 'change', 'the', 'style', 'in', 'less', 'than', 'a', 'month', 'we', 'had', 'a', 'dead', 'battery', 'and', 'a', 'flat', 'tire']\n",
    "\n",
    "After apply step 3 &4 on first review\n",
    "['bought', 'new', 'taurus', 'really', 'loved', 'decided', 'try', 'new', 'taurus', 'care', 'style', 'newer', 'version', 'bought', 'anyway', 'like', 'new', 'car', 'half', 'much', 'liked', 'one', 'thee', 'dash', 'much', 'deep', 'takes', 'lot', 'room', 'find', 'seats', 'comfortable', 'way', 'sides', 'stick', 'strip', 'protect', 'card', 'denting', 'drives', 'nice', 'good', 'pick', 'see', 'hood', 'driver', 'seat', 'judging', 'parking', 'difficult', 'small', 'gas', 'tank', 'would', 'buy', 'taurus', 'would', 'rather', 'back', 'think', 'style', 'nice', 'mistake', 'change', 'style', 'less', 'month', 'dead', 'battery', 'flat', 'tire']\n",
    "\n"
   ]
  },
  {
   "cell_type": "markdown",
   "id": "7814db08",
   "metadata": {},
   "source": [
    "### -- Preprocessing Data (Step5) : Stemming"
   ]
  },
  {
   "cell_type": "markdown",
   "id": "b7486ff6",
   "metadata": {},
   "source": [
    "Word Stem is a method that treats different words that are slightly different as the same thing. Because one word (with the same meaning) can be written in a variety of ways, such as 'play,' 'plays,' 'playing,' and so on. As a result of sentiment analysis being difficult and ineffective, stemming words is a key task for data preparation."
   ]
  },
  {
   "cell_type": "code",
   "execution_count": 9,
   "id": "e7f4bfca",
   "metadata": {},
   "outputs": [],
   "source": [
    "ps=PorterStemmer()\n"
   ]
  },
  {
   "cell_type": "code",
   "execution_count": 10,
   "id": "82bc0155",
   "metadata": {},
   "outputs": [
    {
     "name": "stdout",
     "output_type": "stream",
     "text": [
      "After apply step 5 on first review\n",
      "['bought', 'new', 'tauru', 'realli', 'love', 'decid', 'tri', 'new', 'tauru', 'care', 'style', 'newer', 'version', 'bought', 'anyway', 'like', 'new', 'car', 'half', 'much', 'like', 'one', 'thee', 'dash', 'much', 'deep', 'take', 'lot', 'room', 'find', 'seat', 'comfort', 'way', 'side', 'stick', 'strip', 'protect', 'card', 'dent', 'drive', 'nice', 'good', 'pick', 'see', 'hood', 'driver', 'seat', 'judg', 'park', 'difficult', 'small', 'ga', 'tank', 'would', 'buy', 'tauru', 'would', 'rather', 'back', 'think', 'style', 'nice', 'mistak', 'chang', 'style', 'less', 'month', 'dead', 'batteri', 'flat', 'tire']\n"
     ]
    }
   ],
   "source": [
    "first_review_adjust3=[ps.stem(y) for y in first_review_adjust2]\n",
    "\n",
    "print('After apply step 5 on first review')\n",
    "print(first_review_adjust3)"
   ]
  },
  {
   "cell_type": "markdown",
   "id": "700c6d78",
   "metadata": {},
   "source": [
    "#### Comparison : Second adjustment  and Thrid adjustment (add on step5)"
   ]
  },
  {
   "cell_type": "markdown",
   "id": "f0070d4b",
   "metadata": {},
   "source": [
    "After apply step 3 &4 on first review ['bought', 'new', 'taurus', 'really', 'loved', 'decided', 'try', 'new', 'taurus', 'care', 'style', 'newer', 'version', 'bought', 'anyway', 'like', 'new', 'car', 'half', 'much', 'liked', 'one', 'thee', 'dash', 'much', 'deep', 'takes', 'lot', 'room', 'find', 'seats', 'comfortable', 'way', 'sides', 'stick', 'strip', 'protect', 'card', 'denting', 'drives', 'nice', 'good', 'pick', 'see', 'hood', 'driver', 'seat', 'judging', 'parking', 'difficult', 'small', 'gas', 'tank', 'would', 'buy', 'taurus', 'would', 'rather', 'back', 'think', 'style', 'nice', 'mistake', 'change', 'style', 'less', 'month', 'dead', 'battery', 'flat', 'tire']\n",
    "\n",
    "After apply step 5 on first review\n",
    "['bought', 'new', 'tauru', 'realli', 'love', 'decid', 'tri', 'new', 'tauru', 'care', 'style', 'newer', 'version', 'bought', 'anyway', 'like', 'new', 'car', 'half', 'much', 'like', 'one', 'thee', 'dash', 'much', 'deep', 'take', 'lot', 'room', 'find', 'seat', 'comfort', 'way', 'side', 'stick', 'strip', 'protect', 'card', 'dent', 'drive', 'nice', 'good', 'pick', 'see', 'hood', 'driver', 'seat', 'judg', 'park', 'difficult', 'small', 'ga', 'tank', 'would', 'buy', 'tauru', 'would', 'rather', 'back', 'think', 'style', 'nice', 'mistak', 'chang', 'style', 'less', 'month', 'dead', 'batteri', 'flat', 'tire']"
   ]
  },
  {
   "cell_type": "markdown",
   "id": "c5e2d3fd",
   "metadata": {},
   "source": [
    "#### Stem Example"
   ]
  },
  {
   "cell_type": "markdown",
   "id": "01792394",
   "metadata": {},
   "source": [
    "To be more clear with Stem, I would give 3 more exmaples as below"
   ]
  },
  {
   "cell_type": "code",
   "execution_count": 11,
   "id": "4ec3d493",
   "metadata": {},
   "outputs": [
    {
     "name": "stdout",
     "output_type": "stream",
     "text": [
      "STEMMING EXAMPLE 1\n",
      " \n",
      " BEFORE         AFTER\n",
      "computer     -->   comput\n",
      "computers    -->   comput\n",
      "compute    -->   comput\n",
      "computering   -->   comput\n",
      "\n",
      "STEMMING EXAMPLE 2\n",
      " \n",
      "BEFORE           AFTER\n",
      "decide    -->  decid\n",
      "decides   -->  decid\n",
      "decided  -->  decid\n",
      "deciding -->  decid\n",
      "\n",
      "STEMMING EXAMPLE 3\n",
      " \n",
      "BEFORE       AFTER\n",
      "sleeps    -->  sleep\n",
      "sleep   -->  sleep\n",
      "sleeping -->  sleep\n"
     ]
    }
   ],
   "source": [
    "print('STEMMING EXAMPLE 1')\n",
    "print(\" \")\n",
    "print(' BEFORE         AFTER')\n",
    "print(\"computer     -->  \", ps.stem('computer'))\n",
    "print(\"computers    -->  \", ps.stem('computers'))\n",
    "print(\"compute    -->  \", ps.stem('compute'))\n",
    "print(\"computering   -->  \", ps.stem('computering'))\n",
    "print(\"\")\n",
    "print('STEMMING EXAMPLE 2')\n",
    "print(\" \")\n",
    "print('BEFORE           AFTER')\n",
    "print(\"decide    --> \", ps.stem('decide'))\n",
    "print(\"decides   --> \", ps.stem('decides'))\n",
    "print(\"decided  --> \", ps.stem('decided'))\n",
    "print(\"deciding --> \", ps.stem('deciding'))\n",
    "print(\"\")\n",
    "print('STEMMING EXAMPLE 3')\n",
    "print(\" \")\n",
    "print('BEFORE       AFTER')\n",
    "print(\"sleeps    --> \", ps.stem('sleeps'))\n",
    "print(\"sleep   --> \", ps.stem('sleep'))\n",
    "print(\"sleeping --> \", ps.stem('sleeping'))\n"
   ]
  },
  {
   "cell_type": "markdown",
   "id": "78a3d537",
   "metadata": {},
   "source": [
    "### --Run Full Step of Preparing Data"
   ]
  },
  {
   "cell_type": "markdown",
   "id": "b6e4f6ee",
   "metadata": {},
   "source": [
    "keep the sentiment reviews in total_review and adjustment reviews in total_text"
   ]
  },
  {
   "cell_type": "code",
   "execution_count": 12,
   "id": "420f68ce",
   "metadata": {},
   "outputs": [],
   "source": [
    "total_text=[]\n",
    "total_review=[]\n",
    "# ps=PorterStemmer()\n",
    "# StopWords = set(stopwords.words('english'))\n",
    "with open('car_reviews.csv', 'r') as file:\n",
    "    reader = csv.reader(file)\n",
    "    #Use csv. reader() and next() to skip the first line of a . csv file\n",
    "    next(reader)\n",
    "    for row in reader:\n",
    "        total_text.append(adjust_sentence(row[1]))\n",
    "        total_review.append(row[0].lower())\n"
   ]
  },
  {
   "cell_type": "markdown",
   "id": "87b2026d",
   "metadata": {},
   "source": [
    "## 2. Naive Bayes (Machine learning Part)\n",
    "\n",
    "I would introduce the Naive Bayes in this section. There are many approaches on Naive Bayes Classifier the one i choose to introduce is __Multinomail Naive Bayes classifier__. In this section i provide step as below:\n",
    "\n",
    "1. Spliting the training set and testing set\n",
    "2. Create Bag of word (Count word)\n",
    "3. Calculate Probility (sentence and word)\n",
    "4. Implement algorithm for training set\n",
    "5. Predict the result by testing set\n",
    "\n",
    "In each part, i might insert some detail to jutify the calculation based on Mathematic equation including  Theory describtion"
   ]
  },
  {
   "cell_type": "markdown",
   "id": "8317b058",
   "metadata": {},
   "source": [
    "### Spliting the training set and testing set"
   ]
  },
  {
   "cell_type": "markdown",
   "id": "9ae66ff0",
   "metadata": {},
   "source": [
    "Split the data as two group randomly as 80% for training and 20% for testing"
   ]
  },
  {
   "cell_type": "code",
   "execution_count": 13,
   "id": "4a0ad2c9",
   "metadata": {},
   "outputs": [],
   "source": [
    "X_train, X_test, y_train, y_test = train_test_split(total_text, total_review, test_size=0.2,random_state=20)"
   ]
  },
  {
   "cell_type": "markdown",
   "id": "e3de6317",
   "metadata": {},
   "source": [
    "### Result of spliting data"
   ]
  },
  {
   "cell_type": "code",
   "execution_count": 14,
   "id": "a86cca35",
   "metadata": {},
   "outputs": [
    {
     "name": "stdout",
     "output_type": "stream",
     "text": [
      "lenght of X_train: 1105.\n",
      "lenght of y_train: 1105.\n",
      "lenght of X_train: 277.\n",
      "lenght of y_train: 277.\n"
     ]
    }
   ],
   "source": [
    "print('lenght of X_train: {}.'.format(len(X_train)))\n",
    "print('lenght of y_train: {}.'.format(len(y_train)))\n",
    "print('lenght of X_train: {}.'.format(len(X_test)))\n",
    "print('lenght of y_train: {}.'.format(len(y_test)))"
   ]
  },
  {
   "cell_type": "markdown",
   "id": "c9c521ae",
   "metadata": {},
   "source": [
    "# -- Create Bag of word"
   ]
  },
  {
   "cell_type": "markdown",
   "id": "d8544d0e",
   "metadata": {},
   "source": [
    "We represent a bag-of-words text document as if it were a bag-of-words, that is, an unordered set of words with their position ignored and only their frequency in the document kept.\n",
    "\n",
    "Bag of words is an unorganised collection of words that ignores their place in the document and focuses on their frequency. On a set of reviews, I use this methodology. Because each word may exist in both good and negative sentiment reviews, I'd count the frequency of each word if it appeared in both positive and negative reviews. I make a dictionary with a key that represents a 'word' and a value that represents [positive frequency, negative frequency]."
   ]
  },
  {
   "cell_type": "markdown",
   "id": "05d07928",
   "metadata": {},
   "source": [
    "## --- Full code: Creat Bag of word"
   ]
  },
  {
   "cell_type": "code",
   "execution_count": 15,
   "id": "aee787e8",
   "metadata": {
    "scrolled": false
   },
   "outputs": [],
   "source": [
    "### count word\n",
    "bag={}\n",
    "\n",
    "for i in range(len(X_train)):\n",
    "    for word in X_train[i]:\n",
    "        if word in bag:\n",
    "            if y_train[i]=='pos':\n",
    "                bag[word][0]+=1\n",
    "            else:\n",
    "                bag[word][1]+=1\n",
    "        else:\n",
    "            score=[0,0]\n",
    "            bag[word]=score\n",
    "            if y_train[i]=='pos':\n",
    "                bag[word][0]+=1\n",
    "            else:\n",
    "                bag[word][1]+=1"
   ]
  },
  {
   "cell_type": "markdown",
   "id": "9cbfcec8",
   "metadata": {},
   "source": [
    "## --- Example : Create Bag of word"
   ]
  },
  {
   "cell_type": "code",
   "execution_count": 16,
   "id": "cf179e88",
   "metadata": {},
   "outputs": [
    {
     "data": {
      "text/plain": [
       "{'last': [160, 186],\n",
       " 'year': [497, 584],\n",
       " 'decid': [112, 96],\n",
       " 'trade': [100, 81],\n",
       " 'famili': [202, 133],\n",
       " 'car': [2644, 3087],\n",
       " 'sport': [205, 229],\n",
       " 'alreadi': [43, 74],\n",
       " 'chevi': [49, 61],\n",
       " 'lumina': [3, 6],\n",
       " 'time': [460, 724],\n",
       " 'get': [866, 918],\n",
       " 'rid': [9, 33],\n",
       " 'unreli': [3, 14],\n",
       " 'grand': [45, 30],\n",
       " 'sporti': [69, 52],\n",
       " 'shop': [100, 192],\n",
       " 'around': [251, 259],\n",
       " 'purchas': [291, 280],\n",
       " 'test': [184, 144],\n",
       " 'drove': [142, 175],\n",
       " 'mitsubishi': [4, 4],\n",
       " 'eclips': [7, 2],\n",
       " 'mont': [3, 11],\n",
       " 'carlo': [3, 8],\n",
       " 'mazda': [43, 23],\n",
       " 'ford': [1257, 1715],\n",
       " 'probe': [53, 54],\n",
       " 'eagl': [4, 3],\n",
       " 'talon': [1, 0],\n",
       " 'one': [849, 839],\n",
       " 'handl': [346, 279],\n",
       " 'rel': [40, 47],\n",
       " 'went': [109, 237],\n",
       " 'town': [72, 38],\n",
       " 'dealer': [148, 296],\n",
       " 'look': [721, 614],\n",
       " 'drive': [1179, 864],\n",
       " 'model': [378, 311],\n",
       " 'third': [79, 71],\n",
       " 'came': [116, 147],\n",
       " 'told': [44, 170],\n",
       " 'sale': [33, 38],\n",
       " 'person': [134, 114],\n",
       " 'price': [280, 232],\n",
       " 'rang': [62, 41],\n",
       " 'immedi': [24, 31],\n",
       " 'direct': [22, 17],\n",
       " 'lone': [1, 2],\n",
       " 'mustang': [248, 267],\n",
       " 'wait': [41, 60],\n",
       " 'brought': [10, 36],\n",
       " 'home': [69, 98],\n",
       " 'lucki': [8, 16],\n",
       " 'without': [190, 127],\n",
       " 'delay': [5, 7],\n",
       " 'automat': [194, 160],\n",
       " 'power': [575, 482],\n",
       " 'window': [239, 243],\n",
       " 'door': [445, 417],\n",
       " 'lock': [199, 159],\n",
       " 'stereo': [105, 88],\n",
       " 'system': [233, 179],\n",
       " 'dual': [46, 30],\n",
       " 'air': [200, 183],\n",
       " 'bag': [65, 46],\n",
       " 'driver': [289, 267],\n",
       " 'seat': [1045, 867],\n",
       " 'discov': [16, 23],\n",
       " 'origin': [51, 61],\n",
       " 'mile': [491, 610],\n",
       " 'odomet': [15, 21],\n",
       " 'check': [103, 133],\n",
       " 'everyth': [120, 90],\n",
       " 'insid': [128, 101],\n",
       " 'got': [205, 282],\n",
       " 'steal': [13, 4],\n",
       " 'almost': [117, 166],\n",
       " 'still': [344, 334],\n",
       " 'love': [316, 182],\n",
       " 'much': [407, 402],\n",
       " 'day': [172, 290],\n",
       " 'bought': [251, 305],\n",
       " 'well': [539, 477],\n",
       " 'littl': [418, 342],\n",
       " 'exagger': [1, 3],\n",
       " 'small': [250, 180],\n",
       " 'problem': [491, 874],\n",
       " 'overal': [132, 108],\n",
       " 'great': [487, 252],\n",
       " 'engin': [568, 749],\n",
       " 'short': [94, 80],\n",
       " 'good': [543, 557],\n",
       " 'ga': [348, 310],\n",
       " 'mileag': [244, 189],\n",
       " 'keep': [173, 155],\n",
       " 'foot': [54, 55],\n",
       " 'curv': [38, 36],\n",
       " 'realli': [362, 295],\n",
       " 'like': [919, 881],\n",
       " 'way': [258, 316],\n",
       " 'saturn': [14, 5],\n",
       " 'coup': [33, 22],\n",
       " 'would': [607, 820],\n",
       " 'whip': [1, 2],\n",
       " 'far': [157, 151],\n",
       " 'goe': [58, 63],\n",
       " 'cruis': [96, 91],\n",
       " 'highway': [169, 154],\n",
       " 'comfort': [498, 292],\n",
       " 'fit': [158, 100],\n",
       " 'finish': [42, 23],\n",
       " 'line': [91, 120],\n",
       " 'howev': [216, 203],\n",
       " 'dash': [95, 94],\n",
       " 'plastic': [57, 116],\n",
       " 'mold': [7, 18],\n",
       " 'rattl': [28, 70],\n",
       " 'squeak': [15, 48],\n",
       " 'deal': [85, 80],\n",
       " 'annoy': [59, 76],\n",
       " 'mount': [34, 41],\n",
       " 'pad': [26, 36],\n",
       " 'strut': [9, 17],\n",
       " 'tower': [5, 0],\n",
       " 'tend': [51, 22],\n",
       " 'bad': [109, 242],\n",
       " 'bump': [44, 64],\n",
       " 'obvious': [16, 20],\n",
       " 'husband': [100, 76],\n",
       " 'done': [93, 109],\n",
       " 'thing': [356, 407],\n",
       " 'routin': [10, 14],\n",
       " 'mainten': [88, 64],\n",
       " 'kept': [22, 40],\n",
       " 'stang': [8, 10],\n",
       " 'work': [264, 404],\n",
       " 'order': [46, 42],\n",
       " 'hubbi': [2, 0],\n",
       " 'rear': [459, 410],\n",
       " 'wheel': [457, 288],\n",
       " 'fact': [90, 112],\n",
       " 'sit': [100, 108],\n",
       " 'word': [16, 31],\n",
       " 'easili': [98, 61],\n",
       " 'major': [90, 109],\n",
       " 'experienc': [11, 34],\n",
       " 'light': [256, 271],\n",
       " 'come': [293, 290],\n",
       " 'flap': [4, 0],\n",
       " 'tank': [87, 76],\n",
       " 'stick': [42, 68],\n",
       " 'open': [117, 135],\n",
       " 'build': [27, 26],\n",
       " 'enough': [206, 189],\n",
       " 'fuel': [119, 152],\n",
       " 'pressur': [19, 22],\n",
       " 'caus': [56, 111],\n",
       " 'took': [89, 215],\n",
       " 'correct': [16, 16],\n",
       " 'admit': [32, 22],\n",
       " 'kid': [134, 89],\n",
       " 'involv': [12, 19],\n",
       " 'face': [34, 26],\n",
       " 'back': [600, 615],\n",
       " 'use': [534, 476],\n",
       " 'front': [382, 366],\n",
       " 'even': [428, 486],\n",
       " 'though': [214, 203],\n",
       " 'minor': [66, 47],\n",
       " 'highli': [61, 16],\n",
       " 'recommend': [193, 155],\n",
       " 'anyon': [120, 96],\n",
       " 'want': [400, 343],\n",
       " 'reliabl': [158, 136],\n",
       " 'sexi': [7, 6],\n",
       " 'muscular': [3, 2],\n",
       " 'stanc': [6, 0],\n",
       " 'catfish': [1, 0],\n",
       " 'road': [419, 341],\n",
       " 'camaro': [21, 31],\n",
       " 'knock': [20, 19],\n",
       " 'mine': [68, 67],\n",
       " 'better': [291, 278],\n",
       " 'lol': [7, 2],\n",
       " 'wife': [82, 45],\n",
       " 'need': [405, 367],\n",
       " 'newer': [17, 34],\n",
       " 'buick': [6, 13],\n",
       " 'read': [85, 96],\n",
       " 'review': [103, 139],\n",
       " 'inform': [20, 59],\n",
       " 'contour': [133, 155],\n",
       " 'tout': [3, 2],\n",
       " 'pretti': [122, 150],\n",
       " 'worri': [39, 33],\n",
       " 'crash': [23, 38],\n",
       " 'worthi': [3, 3],\n",
       " 'rememb': [31, 39],\n",
       " 'correctli': [3, 4],\n",
       " 'usual': [45, 58],\n",
       " 'score': [4, 4],\n",
       " 'area': [145, 123],\n",
       " 'protect': [22, 21],\n",
       " 'factor': [29, 13],\n",
       " 'consider': [16, 19],\n",
       " 'nonetheless': [3, 2],\n",
       " 'quot': [462, 538],\n",
       " 'biggest': [32, 29],\n",
       " 'reason': [133, 111],\n",
       " 'gener': [78, 92],\n",
       " 'mid': [28, 37],\n",
       " 'size': [219, 166],\n",
       " 'easi': [224, 140],\n",
       " 'find': [183, 190],\n",
       " 'economi': [58, 67],\n",
       " 'worst': [6, 47],\n",
       " 'news': [6, 21],\n",
       " 'although': [121, 112],\n",
       " 'go': [177, 252],\n",
       " 'old': [157, 171],\n",
       " 'feel': [374, 296],\n",
       " 'quit': [172, 150],\n",
       " 'gone': [32, 43],\n",
       " 'yet': [101, 102],\n",
       " 'think': [262, 272],\n",
       " 'past': [56, 51],\n",
       " 'start': [149, 327],\n",
       " 'experi': [62, 87],\n",
       " 'put': [240, 239],\n",
       " 'babi': [45, 30],\n",
       " 'also': [570, 435],\n",
       " 'seatback': [1, 9],\n",
       " 'fold': [95, 62],\n",
       " 'least': [75, 105],\n",
       " 'non': [22, 24],\n",
       " 'agre': [12, 31],\n",
       " 'profession': [5, 11],\n",
       " 'consum': [26, 57],\n",
       " 'mag': [3, 1],\n",
       " 'say': [211, 271],\n",
       " 'bodi': [112, 121],\n",
       " 'integr': [11, 7],\n",
       " 'poor': [38, 92],\n",
       " 'mechan': [77, 187],\n",
       " 'part': [174, 222],\n",
       " 'confid': [16, 23],\n",
       " 'troubl': [57, 61],\n",
       " 'brake': [238, 361],\n",
       " 'new': [496, 557],\n",
       " 'rotor': [15, 31],\n",
       " 'vibrat': [14, 29],\n",
       " 'shimmi': [0, 7],\n",
       " 'stop': [120, 159],\n",
       " 'driven': [98, 82],\n",
       " 'life': [41, 47],\n",
       " 'could': [263, 356],\n",
       " 'whole': [49, 68],\n",
       " 'suspens': [92, 108],\n",
       " 'circumst': [3, 8],\n",
       " 'noisi': [21, 23],\n",
       " 'situat': [31, 28],\n",
       " 'steadi': [6, 3],\n",
       " 'speed': [241, 248],\n",
       " 'often': [46, 54],\n",
       " 'stall': [4, 25],\n",
       " 'first': [337, 449],\n",
       " 'thank': [31, 51],\n",
       " 'transmiss': [211, 518],\n",
       " 'noth': [79, 159],\n",
       " 'rave': [4, 4],\n",
       " 'certainli': [39, 39],\n",
       " 'wors': [20, 58],\n",
       " 'wish': [59, 41],\n",
       " 'patriot': [0, 3],\n",
       " 'honda': [66, 109],\n",
       " 'subaru': [12, 6],\n",
       " 'toyota': [56, 109],\n",
       " 'nissan': [36, 40],\n",
       " 'probabl': [114, 118],\n",
       " 'write': [24, 44],\n",
       " 'posit': [77, 90],\n",
       " 'best': [198, 111],\n",
       " 'live': [107, 88],\n",
       " 'gravel': [8, 6],\n",
       " 'surpris': [72, 51],\n",
       " 'limit': [101, 76],\n",
       " 'occasion': [21, 25],\n",
       " 'adjust': [125, 98],\n",
       " 'rewir': [1, 0],\n",
       " 'wire': [30, 39],\n",
       " 'perform': [162, 124],\n",
       " 'intend': [16, 11],\n",
       " 'place': [104, 115],\n",
       " 'fix': [101, 311],\n",
       " 'protector': [2, 0],\n",
       " 'wear': [43, 60],\n",
       " 'courtesi': [2, 0],\n",
       " 'lamp': [13, 17],\n",
       " 'replac': [231, 440],\n",
       " 'switch': [77, 68],\n",
       " 'fuse': [5, 4],\n",
       " 'togeth': [27, 24],\n",
       " 'blow': [26, 26],\n",
       " 'meant': [7, 12],\n",
       " 'anoth': [206, 301],\n",
       " 'constantli': [14, 37],\n",
       " 'lubric': [3, 4],\n",
       " 'hing': [8, 14],\n",
       " 'damag': [25, 45],\n",
       " 'provid': [93, 65],\n",
       " 'numer': [20, 28],\n",
       " 'headach': [6, 14],\n",
       " 'expect': [111, 132],\n",
       " 'happen': [40, 114],\n",
       " 'bash': [5, 0],\n",
       " 'american': [63, 58],\n",
       " 'vehicl': [824, 801],\n",
       " 'discipl': [1, 0],\n",
       " 'mean': [77, 86],\n",
       " 'abl': [83, 79],\n",
       " 'remain': [24, 32],\n",
       " 'object': [19, 11],\n",
       " 'tauru': [186, 331],\n",
       " 'bother': [12, 17],\n",
       " 'alway': [113, 143],\n",
       " 'greatest': [9, 7],\n",
       " 'concern': [38, 44],\n",
       " 'long': [276, 192],\n",
       " 'strang': [7, 28],\n",
       " 'hiccup': [2, 0],\n",
       " 'seem': [227, 264],\n",
       " 'longer': [60, 79],\n",
       " 'trip': [224, 128],\n",
       " 'never': [198, 268],\n",
       " 'determin': [6, 16],\n",
       " 'actual': [90, 121],\n",
       " 'felt': [79, 105],\n",
       " 'recent': [104, 73],\n",
       " 'altern': [19, 41],\n",
       " 'steer': [177, 213],\n",
       " 'malfunct': [7, 15],\n",
       " 'later': [47, 159],\n",
       " 'found': [207, 183],\n",
       " 'kind': [66, 70],\n",
       " 'sensor': [42, 69],\n",
       " 'modul': [3, 13],\n",
       " 'mess': [12, 8],\n",
       " 'overdr': [41, 27],\n",
       " 'interior': [300, 293],\n",
       " 'tendenc': [8, 10],\n",
       " 'stay': [50, 68],\n",
       " 'shut': [20, 28],\n",
       " 'solv': [12, 7],\n",
       " 'pull': [118, 113],\n",
       " 'bulb': [6, 6],\n",
       " 'cheap': [61, 113],\n",
       " 'hard': [131, 154],\n",
       " 'clean': [55, 34],\n",
       " 'oddbal': [1, 0],\n",
       " 'shape': [27, 30],\n",
       " 'note': [53, 52],\n",
       " 'own': [185, 155],\n",
       " 'prior': [7, 8],\n",
       " 'burn': [22, 36],\n",
       " 'hole': [11, 12],\n",
       " 'stunk': [2, 0],\n",
       " 'smoke': [9, 21],\n",
       " 'habit': [5, 10],\n",
       " 'cannot': [33, 48],\n",
       " 'smell': [5, 25],\n",
       " 'side': [245, 272],\n",
       " 'liter': [81, 108],\n",
       " 'standbi': [1, 0],\n",
       " 'semi': [11, 6],\n",
       " 'synthet': [1, 4],\n",
       " 'oil': [109, 120],\n",
       " 'may': [147, 172],\n",
       " 'help': [98, 99],\n",
       " 'happi': [80, 59],\n",
       " 'ad': [63, 40],\n",
       " 'scosch': [1, 0],\n",
       " 'sell': [48, 84],\n",
       " 'kit': [24, 11],\n",
       " 'stupid': [5, 22],\n",
       " 'consol': [81, 50],\n",
       " 'mani': [217, 256],\n",
       " 'peopl': [288, 224],\n",
       " 'call': [70, 135],\n",
       " 'grandpa': [1, 0],\n",
       " 'vain': [1, 1],\n",
       " 'mind': [53, 56],\n",
       " 'take': [266, 281],\n",
       " 'step': [44, 39],\n",
       " 'prevent': [15, 14],\n",
       " 'late': [28, 33],\n",
       " 'summer': [28, 32],\n",
       " 'daughter': [16, 17],\n",
       " 'accid': [38, 39],\n",
       " 'left': [55, 90],\n",
       " 'chevrolet': [26, 19],\n",
       " 'minivan': [86, 88],\n",
       " 'total': [44, 79],\n",
       " 'spent': [27, 36],\n",
       " 'next': [72, 151],\n",
       " 'month': [130, 321],\n",
       " 'search': [23, 24],\n",
       " 'buy': [292, 337],\n",
       " 'differ': [136, 122],\n",
       " 'prioriti': [5, 3],\n",
       " 'passeng': [210, 196],\n",
       " 'hood': [44, 71],\n",
       " 'pleas': [65, 73],\n",
       " 'chose': [23, 17],\n",
       " 'windstar': [173, 181],\n",
       " 'notic': [110, 145],\n",
       " 'built': [67, 64],\n",
       " 'sturdi': [12, 3],\n",
       " 'instrument': [33, 31],\n",
       " 'panel': [52, 53],\n",
       " 'design': [162, 190],\n",
       " 'clearli': [9, 18],\n",
       " 'label': [4, 4],\n",
       " 'impress': [97, 89],\n",
       " 'amount': [68, 50],\n",
       " 'space': [193, 159],\n",
       " 'leg': [60, 65],\n",
       " 'room': [303, 204],\n",
       " 'haul': [134, 48],\n",
       " 'bench': [36, 56],\n",
       " 'move': [112, 101],\n",
       " 'center': [70, 75],\n",
       " 'allow': [92, 41],\n",
       " 'arm': [31, 40],\n",
       " 'rest': [42, 53],\n",
       " 'everi': [159, 174],\n",
       " 'upholsteri': [9, 5],\n",
       " 'eye': [38, 19],\n",
       " 'second': [112, 137],\n",
       " 'slide': [48, 63],\n",
       " 'someth': [154, 240],\n",
       " 'keyless': [34, 17],\n",
       " 'entri': [52, 32],\n",
       " 'fumbl': [3, 0],\n",
       " 'key': [44, 40],\n",
       " 'rain': [31, 46],\n",
       " 'two': [296, 338],\n",
       " 'hour': [63, 81],\n",
       " 'realiz': [34, 54],\n",
       " 'import': [59, 49],\n",
       " 'aspect': [15, 23],\n",
       " 'van': [233, 314],\n",
       " 'cours': [61, 77],\n",
       " 'safeti': [105, 115],\n",
       " 'play': [31, 28],\n",
       " 'decis': [23, 30],\n",
       " 'consist': [13, 5],\n",
       " 'rank': [1, 2],\n",
       " 'among': [12, 16],\n",
       " 'safest': [6, 0],\n",
       " 'along': [48, 45],\n",
       " 'neg': [26, 21],\n",
       " 'rental': [20, 85],\n",
       " 'save': [41, 39],\n",
       " 'option': [242, 177],\n",
       " 'larger': [77, 48],\n",
       " 'cyl': [12, 10],\n",
       " 'sound': [172, 154],\n",
       " 'might': [97, 90],\n",
       " 'mediocr': [3, 9],\n",
       " 'rate': [90, 99],\n",
       " 'none': [15, 17],\n",
       " 'entir': [28, 47],\n",
       " 'disappoint': [23, 54],\n",
       " 'outsid': [58, 55],\n",
       " 'visual': [4, 7],\n",
       " 'unremark': [5, 1],\n",
       " 'plain': [11, 24],\n",
       " 'scale': [2, 4],\n",
       " 'base': [85, 99],\n",
       " 'make': [393, 414],\n",
       " 'appeal': [22, 18],\n",
       " 'unfortun': [28, 67],\n",
       " 'tast': [21, 13],\n",
       " 'oval': [10, 13],\n",
       " 'domin': [1, 2],\n",
       " 'appear': [53, 57],\n",
       " 'fine': [67, 87],\n",
       " 'smallish': [1, 4],\n",
       " 'trunk': [144, 130],\n",
       " 'full': [97, 81],\n",
       " 'medium': [11, 11],\n",
       " 'laptop': [4, 3],\n",
       " 'case': [46, 55],\n",
       " 'somewhat': [30, 37],\n",
       " 'exit': [11, 14],\n",
       " 'challeng': [10, 7],\n",
       " 'thinner': [0, 1],\n",
       " 'flimsi': [5, 18],\n",
       " 'compar': [94, 78],\n",
       " 'uncomfort': [19, 48],\n",
       " 'remind': [6, 19],\n",
       " 'flight': [0, 1],\n",
       " 'unabl': [2, 7],\n",
       " 'settl': [13, 11],\n",
       " 'simpli': [33, 49],\n",
       " 'made': [161, 193],\n",
       " 'display': [26, 8],\n",
       " 'flank': [0, 1],\n",
       " 'divid': [3, 3],\n",
       " 'emphas': [0, 3],\n",
       " 'worsen': [0, 1],\n",
       " 'cramp': [25, 47],\n",
       " 'cabin': [26, 33],\n",
       " 'nois': [131, 192],\n",
       " 'loud': [30, 63],\n",
       " 'whine': [1, 14],\n",
       " 'acceler': [119, 137],\n",
       " 'overpow': [2, 1],\n",
       " 'radio': [140, 111],\n",
       " 'whini': [1, 2],\n",
       " 'quickli': [54, 43],\n",
       " 'see': [189, 191],\n",
       " 'journey': [5, 5],\n",
       " 'pleasant': [12, 11],\n",
       " 'normal': [59, 84],\n",
       " 'packag': [112, 73],\n",
       " 'understand': [20, 41],\n",
       " 'control': [350, 239],\n",
       " 'nervou': [3, 6],\n",
       " 'break': [59, 99],\n",
       " 'dodg': [96, 41],\n",
       " 'heavi': [76, 53],\n",
       " 'cincinatti': [0, 1],\n",
       " 'tri': [117, 194],\n",
       " 'pass': [61, 52],\n",
       " 'dump': [7, 11],\n",
       " 'truck': [943, 560],\n",
       " 'lane': [18, 38],\n",
       " 'onramp': [5, 3],\n",
       " 'pedal': [44, 67],\n",
       " 'floor': [72, 68],\n",
       " 'horsepow': [70, 61],\n",
       " 'garag': [41, 49],\n",
       " 'massachusett': [1, 2],\n",
       " 'slow': [28, 42],\n",
       " 'pickup': [107, 50],\n",
       " 'tune': [32, 31],\n",
       " 'loudli': [3, 4],\n",
       " 'iffi': [1, 4],\n",
       " 'turn': [230, 283],\n",
       " 'maximum': [8, 10],\n",
       " 'began': [20, 50],\n",
       " 'specif': [14, 19],\n",
       " 'request': [2, 12],\n",
       " 'unless': [39, 71],\n",
       " 'close': [77, 144],\n",
       " 'basic': [49, 69],\n",
       " 'transport': [32, 26],\n",
       " 'underpow': [10, 14],\n",
       " 'escort': [165, 105],\n",
       " 'sever': [96, 116],\n",
       " 'ago': [63, 99],\n",
       " 'care': [56, 104],\n",
       " 'mainli': [14, 6],\n",
       " 'consid': [132, 117],\n",
       " 'mostli': [24, 21],\n",
       " 'coupl': [87, 62],\n",
       " 'compact': [35, 21],\n",
       " 'ever': [132, 121],\n",
       " 'fast': [64, 58],\n",
       " 'featur': [245, 162],\n",
       " 'world': [28, 26],\n",
       " 'mirror': [84, 75],\n",
       " 'defrost': [21, 15],\n",
       " 'alarm': [15, 22],\n",
       " 'etc': [82, 96],\n",
       " 'equip': [141, 78],\n",
       " 'cavali': [6, 2],\n",
       " 'civic': [21, 21],\n",
       " 'hyundi': [1, 0],\n",
       " 'neon': [7, 2],\n",
       " 'smooth': [136, 72],\n",
       " 'shift': [103, 129],\n",
       " 'top': [112, 111],\n",
       " 'notch': [9, 4],\n",
       " 'shortcom': [3, 3],\n",
       " 'stiff': [21, 22],\n",
       " 'extra': [145, 72],\n",
       " 'otherwis': [26, 24],\n",
       " 'complaint': [63, 47],\n",
       " 'budget': [20, 15],\n",
       " 'beat': [30, 25],\n",
       " 'ask': [50, 89],\n",
       " 'everyon': [54, 49],\n",
       " 'discontinu': [8, 6],\n",
       " 'huge': [56, 47],\n",
       " 'success': [16, 12],\n",
       " 'paparazzi': [1, 0],\n",
       " 'causin': [1, 0],\n",
       " 'press': [17, 30],\n",
       " 'given': [33, 41],\n",
       " 'newli': [5, 3],\n",
       " 'style': [141, 98],\n",
       " 'svt': [25, 15],\n",
       " 'cobra': [24, 30],\n",
       " 'attract': [39, 25],\n",
       " 'crisper': [2, 0],\n",
       " 'fall': [36, 67],\n",
       " 'ponycar': [1, 0],\n",
       " 'proud': [15, 13],\n",
       " 'owner': [93, 128],\n",
       " 'disagre': [2, 2],\n",
       " 'attent': [22, 24],\n",
       " 'surround': [8, 4],\n",
       " 'rumor': [2, 3],\n",
       " 'inadequaci': [1, 1],\n",
       " 'let': [110, 115],\n",
       " 'clear': [27, 22],\n",
       " 'misconcept': [1, 3],\n",
       " 'starter': [9, 28],\n",
       " 'plagu': [4, 8],\n",
       " 'elect': [2, 1],\n",
       " 'upgrad': [46, 33],\n",
       " 'voluntari': [1, 0],\n",
       " 'basi': [4, 10],\n",
       " 'respons': [57, 51],\n",
       " 'dissatisfi': [2, 2],\n",
       " 'fortun': [17, 20],\n",
       " 'manag': [26, 60],\n",
       " 'lot': [334, 337],\n",
       " 'prime': [3, 1],\n",
       " 'condit': [125, 114],\n",
       " 'chip': [7, 10],\n",
       " 'intak': [18, 15],\n",
       " 'exhaust': [53, 57],\n",
       " 'wow': [8, 5],\n",
       " 'boast': [8, 5],\n",
       " 'respect': [18, 5],\n",
       " 'hit': [58, 100],\n",
       " 'mark': [24, 17],\n",
       " 'advertis': [13, 14],\n",
       " 'pale': [1, 1],\n",
       " 'comparison': [18, 16],\n",
       " 'gut': [2, 3],\n",
       " 'wrench': [1, 2],\n",
       " 'sheer': [6, 6],\n",
       " 'forc': [13, 22],\n",
       " 'par': [8, 9],\n",
       " 'corvett': [3, 6],\n",
       " 'slightli': [55, 43],\n",
       " 'lower': [71, 72],\n",
       " 'leav': [51, 64],\n",
       " 'wake': [1, 3],\n",
       " 'supercharg': [11, 2],\n",
       " 'supra': [1, 1],\n",
       " 'nitrou': [1, 0],\n",
       " 'clutch': [33, 47],\n",
       " 'requir': [72, 74],\n",
       " 'complet': [64, 76],\n",
       " 'educ': [2, 0],\n",
       " 'corner': [65, 54],\n",
       " 'gear': [95, 135],\n",
       " 'reserv': [8, 4],\n",
       " 'highest': [9, 3],\n",
       " 'freeway': [31, 39],\n",
       " 'squeal': [8, 8],\n",
       " 'monstrou': [1, 0],\n",
       " 'gain': [9, 7],\n",
       " 'nearli': [41, 41],\n",
       " 'bark': [1, 0],\n",
       " 'tire': [235, 229],\n",
       " 'speedshift': [1, 0],\n",
       " 'startl': [2, 2],\n",
       " 'subtl': [7, 3],\n",
       " 'lift': [19, 24],\n",
       " 'end': [148, 221],\n",
       " 'suddenli': [6, 18],\n",
       " 'perfect': [94, 29],\n",
       " 'independ': [19, 20],\n",
       " 'ramp': [6, 5],\n",
       " 'hill': [39, 62],\n",
       " 'lean': [13, 24],\n",
       " 'instabl': [1, 1],\n",
       " 'sharp': [17, 23],\n",
       " 'snake': [1, 0],\n",
       " 'crisp': [12, 1],\n",
       " 'quick': [43, 32],\n",
       " 'hors': [24, 20],\n",
       " 'buck': [13, 15],\n",
       " 'set': [123, 68],\n",
       " 'free': [45, 57],\n",
       " 'advis': [9, 13],\n",
       " 'possibl': [44, 52],\n",
       " 'inch': [58, 54],\n",
       " 'necessari': [20, 8],\n",
       " 'higher': [53, 51],\n",
       " 'give': [181, 107],\n",
       " 'excel': [140, 61],\n",
       " 'command': [6, 4],\n",
       " 'sacrif': [4, 1],\n",
       " 'capabl': [34, 11],\n",
       " 'glove': [20, 16],\n",
       " 'form': [16, 14],\n",
       " 'support': [49, 74],\n",
       " 'roadtrip': [3, 2],\n",
       " 'enjoy': [70, 44],\n",
       " 'oodl': [1, 0],\n",
       " 'legroom': [16, 16],\n",
       " 'backseat': [12, 16],\n",
       " 'mach': [19, 58],\n",
       " 'soundsystem': [1, 0],\n",
       " 'produc': [30, 24],\n",
       " 'crank': [13, 13],\n",
       " 'hear': [41, 59],\n",
       " 'roar': [8, 4],\n",
       " 'pure': [9, 8],\n",
       " 'daili': [25, 26],\n",
       " 'traffic': [52, 42],\n",
       " 'weekend': [14, 19],\n",
       " 'excurs': [67, 82],\n",
       " 'crowd': [11, 4],\n",
       " 'trunkspac': [1, 0],\n",
       " 'hardli': [8, 15],\n",
       " 'worth': [59, 69],\n",
       " 'mention': [43, 70],\n",
       " 'machin': [15, 13],\n",
       " 'author': [3, 1],\n",
       " 'bewar': [6, 14],\n",
       " 'lizard': [1, 0],\n",
       " 'due': [59, 102],\n",
       " 'releas': [18, 35],\n",
       " 'per': [59, 46],\n",
       " 'dealership': [81, 199],\n",
       " 'impos': [3, 0],\n",
       " 'surcharg': [2, 1],\n",
       " 'pay': [62, 121],\n",
       " 'walk': [16, 18],\n",
       " 'attempt': [14, 33],\n",
       " 'convinc': [16, 14],\n",
       " 'fee': [8, 2],\n",
       " 'upon': [14, 26],\n",
       " 'investig': [6, 8],\n",
       " 'local': [45, 59],\n",
       " 'overcharg': [1, 1],\n",
       " 'stand': [29, 37],\n",
       " 'ground': [36, 41],\n",
       " 'fool': [2, 4],\n",
       " 'fulli': [33, 18],\n",
       " 'hardtop': [1, 0],\n",
       " 'run': [179, 169],\n",
       " 'neighborhood': [9, 4],\n",
       " 'final': [65, 131],\n",
       " 'result': [18, 40],\n",
       " 'particularli': [26, 23],\n",
       " 'underestim': [1, 0],\n",
       " 'sure': [101, 138],\n",
       " 'wave': [2, 3],\n",
       " 'smile': [6, 3],\n",
       " 'behind': [75, 66],\n",
       " 'addendum': [2, 0],\n",
       " 'septemb': [8, 16],\n",
       " 'despit': [19, 49],\n",
       " 'sought': [2, 0],\n",
       " 'florida': [9, 10],\n",
       " 'capita': [1, 0],\n",
       " 'anywher': [26, 13],\n",
       " 'els': [53, 81],\n",
       " 'seen': [56, 40],\n",
       " 'goug': [1, 1],\n",
       " 'hand': [51, 57],\n",
       " 'sedan': [65, 99],\n",
       " 'brand': [52, 72],\n",
       " 'nice': [293, 262],\n",
       " 'afford': [51, 46],\n",
       " 'divorc': [0, 3],\n",
       " 'mother': [10, 24],\n",
       " 'avail': [100, 72],\n",
       " 'four': [208, 116],\n",
       " 'premium': [31, 23],\n",
       " 'hate': [25, 74],\n",
       " 'leaki': [3, 7],\n",
       " 'moldi': [0, 2],\n",
       " 'stroller': [12, 9],\n",
       " 'nowher': [1, 6],\n",
       " 'groceri': [50, 31],\n",
       " 'dri': [19, 14],\n",
       " 'eighteen': [1, 2],\n",
       " 'repair': [118, 319],\n",
       " 'outcom': [0, 1],\n",
       " 'talk': [35, 50],\n",
       " 'topsi': [0, 1],\n",
       " 'turvi': [0, 1],\n",
       " 'loan': [14, 15],\n",
       " 'afraid': [6, 9],\n",
       " 'unrepair': [0, 1],\n",
       " 'bring': [26, 39],\n",
       " 'knowledg': [3, 10],\n",
       " 'auto': [62, 38],\n",
       " 'market': [94, 63],\n",
       " 'tell': [91, 115],\n",
       " 'hold': [76, 70],\n",
       " 'valu': [67, 81],\n",
       " 'dime': [11, 5],\n",
       " 'dozen': [10, 9],\n",
       " 'gave': [26, 62],\n",
       " 'snow': [96, 38],\n",
       " 'inexpens': [17, 13],\n",
       " 'maintain': [31, 36],\n",
       " 'decent': [43, 70],\n",
       " 'watch': [21, 13],\n",
       " 'util': [34, 29],\n",
       " 'said': [69, 154],\n",
       " 'saw': [30, 33],\n",
       " 'sat': [18, 11],\n",
       " 'salesperson': [2, 2],\n",
       " 'believ': [60, 87],\n",
       " 'explor': [398, 294],\n",
       " 'awd': [6, 5],\n",
       " 'ohc': [1, 3],\n",
       " 'leas': [36, 52],\n",
       " 'compart': [33, 19],\n",
       " 'cold': [50, 33],\n",
       " 'novemb': [9, 10],\n",
       " 'heard': [32, 63],\n",
       " 'bang': [8, 6],\n",
       " 'imagin': [31, 27],\n",
       " 'servic': [63, 225],\n",
       " 'figur': [32, 61],\n",
       " 'week': [74, 218],\n",
       " 'recal': [40, 195],\n",
       " 'cam': [12, 6],\n",
       " 'upper': [7, 9],\n",
       " 'portion': [8, 11],\n",
       " 'half': [33, 69],\n",
       " 'up': [13, 11],\n",
       " 'down': [7, 4],\n",
       " 'return': [11, 43],\n",
       " 'bunch': [7, 15],\n",
       " 'stuck': [21, 47],\n",
       " 'histori': [17, 19],\n",
       " 'alot': [17, 22],\n",
       " 'licens': [13, 6],\n",
       " 'anyth': [113, 114],\n",
       " 'serv': [13, 13],\n",
       " 'purpos': [10, 12],\n",
       " 'safe': [72, 54],\n",
       " 'throughout': [11, 10],\n",
       " 'high': [174, 157],\n",
       " 'school': [25, 30],\n",
       " 'colleg': [34, 17],\n",
       " 'terrif': [10, 3],\n",
       " 'point': [96, 127],\n",
       " 'align': [9, 58],\n",
       " 'rotat': [7, 10],\n",
       " 'balanc': [12, 18],\n",
       " 'unalign': [0, 3],\n",
       " 'right': [172, 206],\n",
       " 'fail': [23, 86],\n",
       " 'unevenli': [0, 2],\n",
       " 'degre': [16, 22],\n",
       " 'straight': [24, 20],\n",
       " 'paint': [53, 84],\n",
       " 'job': [85, 78],\n",
       " 'aw': [6, 29],\n",
       " 'wash': [16, 27],\n",
       " 'towel': [2, 2],\n",
       " 'red': [57, 54],\n",
       " 'black': [47, 41],\n",
       " 'tempo': [14, 46],\n",
       " 'lastli': [1, 9],\n",
       " 'speaker': [50, 49],\n",
       " 'buzz': [3, 4],\n",
       " 'continu': [34, 57],\n",
       " 'whenev': [14, 18],\n",
       " 'fun': [109, 84],\n",
       " 'reccomend': [2, 4],\n",
       " 'graveyard': [0, 1],\n",
       " 'bust': [2, 5],\n",
       " 'rod': [10, 32],\n",
       " 'mirag': [1, 2],\n",
       " 'happier': [6, 6],\n",
       " 'august': [7, 14],\n",
       " 'three': [127, 137],\n",
       " 'follow': [25, 39],\n",
       " 'except': [63, 75],\n",
       " 'denim': [1, 0],\n",
       " 'blue': [34, 36],\n",
       " 'sleek': [14, 9],\n",
       " 'low': [127, 150],\n",
       " 'slung': [1, 1],\n",
       " 'dream': [33, 28],\n",
       " 'hug': [9, 4],\n",
       " 'zip': [5, 6],\n",
       " 'cylind': [66, 82],\n",
       " 'taller': [19, 6],\n",
       " 'scoot': [2, 3],\n",
       " 'forward': [29, 56],\n",
       " 'reach': [59, 68],\n",
       " 'load': [130, 74],\n",
       " 'neat': [6, 12],\n",
       " 'stuff': [68, 67],\n",
       " 'ab': [50, 46],\n",
       " 'moon': [13, 2],\n",
       " 'roof': [59, 28],\n",
       " 'remot': [37, 25],\n",
       " 'know': [240, 265],\n",
       " 'lack': [54, 70],\n",
       " 'absenc': [2, 3],\n",
       " 'comfi': [13, 10],\n",
       " 'drag': [12, 4],\n",
       " 'commut': [41, 22],\n",
       " 'bit': [180, 141],\n",
       " 'spaciou': [29, 12],\n",
       " 'cell': [12, 19],\n",
       " 'phone': [20, 35],\n",
       " 'disc': [46, 19],\n",
       " 'changer': [45, 14],\n",
       " 'previou': [50, 37],\n",
       " 'defray': [1, 2],\n",
       " 'initi': [21, 22],\n",
       " 'depreci': [7, 9],\n",
       " 'satisfi': [21, 16],\n",
       " 'sinc': [212, 226],\n",
       " 'man': [21, 20],\n",
       " 'rapid': [2, 6],\n",
       " 'child': [40, 39],\n",
       " 'difficult': [41, 56],\n",
       " 'port': [7, 5],\n",
       " 'crib': [2, 1],\n",
       " 'luggag': [38, 16],\n",
       " 'variou': [20, 20],\n",
       " 'newborn': [2, 0],\n",
       " 'necess': [8, 1],\n",
       " 'plenti': [130, 66],\n",
       " 'listen': [26, 18],\n",
       " 'wind': [43, 51],\n",
       " 'amen': [9, 15],\n",
       " 'emerg': [17, 24],\n",
       " 'spare': [32, 14],\n",
       " 'roomi': [100, 74],\n",
       " 'eas': [19, 10],\n",
       " 'definit': [94, 66],\n",
       " 'joy': [22, 3],\n",
       " 'suggest': [32, 45],\n",
       " 'cut': [18, 37],\n",
       " 'pick': [77, 95],\n",
       " 'current': [41, 50],\n",
       " 'thousand': [28, 33],\n",
       " 'regular': [84, 48],\n",
       " 'seriou': [20, 34],\n",
       " 'travel': [64, 39],\n",
       " 'prove': [21, 10],\n",
       " 'father': [11, 29],\n",
       " 'conceiv': [3, 0],\n",
       " 'tercel': [3, 4],\n",
       " 'corolla': [17, 13],\n",
       " 'proteg': [2, 2],\n",
       " 'sentra': [4, 1],\n",
       " 'sold': [38, 56],\n",
       " 'unrefin': [2, 6],\n",
       " 'articl': [4, 11],\n",
       " 'issu': [56, 73],\n",
       " 'moreov': [1, 1],\n",
       " 'report': [32, 33],\n",
       " 'averag': [87, 93],\n",
       " 'domest': [14, 4],\n",
       " 'bore': [14, 20],\n",
       " 'action': [9, 23],\n",
       " 'sum': [5, 8],\n",
       " 'therefor': [6, 9],\n",
       " 'parkway': [1, 1],\n",
       " 'downshift': [8, 21],\n",
       " 'drawback': [18, 6],\n",
       " 'rpm': [51, 64],\n",
       " 'compressor': [3, 11],\n",
       " 'cycl': [2, 2],\n",
       " 'misfir': [1, 3],\n",
       " 'newspap': [2, 0],\n",
       " 'awesom': [42, 15],\n",
       " 'inspir': [8, 8],\n",
       " 'ride': [383, 228],\n",
       " 'larg': [194, 166],\n",
       " 'pothol': [8, 9],\n",
       " 'absorb': [8, 10],\n",
       " 'thud': [1, 2],\n",
       " 'grippi': [1, 2],\n",
       " 'friend': [81, 127],\n",
       " 'factori': [60, 44],\n",
       " 'instal': [51, 44],\n",
       " 'leak': [26, 101],\n",
       " 'player': [95, 64],\n",
       " 'pod': [2, 5],\n",
       " 'special': [32, 32],\n",
       " 'facepl': [2, 1],\n",
       " 'admir': [10, 4],\n",
       " 'dowdi': [1, 0],\n",
       " 'suv': [288, 269],\n",
       " 'chang': [179, 150],\n",
       " 'intern': [4, 7],\n",
       " ...}"
      ]
     },
     "execution_count": 16,
     "metadata": {},
     "output_type": "execute_result"
    }
   ],
   "source": [
    "bag"
   ]
  },
  {
   "cell_type": "code",
   "execution_count": 17,
   "id": "b6fb2271",
   "metadata": {},
   "outputs": [
    {
     "name": "stdout",
     "output_type": "stream",
     "text": [
      "[38, 92]\n",
      "\n",
      "Example case show the frequency of 'poor' appeard on positive reviews 38 times and negative reviews 92 times in this document\n"
     ]
    }
   ],
   "source": [
    "example=bag['poor']\n",
    "\n",
    "print(example)\n",
    "print(\"\")\n",
    "print(\"Example case show the frequency of 'poor' appeard on positive reviews {} times and negative reviews {} times in this document\".format(example[0],example[1]))"
   ]
  },
  {
   "cell_type": "markdown",
   "id": "74eb291a",
   "metadata": {},
   "source": [
    "### Remove the particular word from test set which is not existing in training set"
   ]
  },
  {
   "cell_type": "code",
   "execution_count": 18,
   "id": "a18e5df5",
   "metadata": {},
   "outputs": [],
   "source": [
    "X_test_sim=[]\n",
    "\n",
    "for i in X_test:\n",
    "    X_test_add=[]\n",
    "    for j in i:\n",
    "        if j in bag:\n",
    "            X_test_add.append(j)\n",
    "    X_test_sim.append(X_test_add)\n",
    "X_test=X_test_sim"
   ]
  },
  {
   "cell_type": "markdown",
   "id": "b70c7397",
   "metadata": {},
   "source": [
    "## Implement Multinomial Naive Bayes Classifier for training"
   ]
  },
  {
   "cell_type": "markdown",
   "id": "7f74bc2f",
   "metadata": {},
   "source": [
    "I'll start with a simple explanation, then move on to theory and equations. Normally, we would choose the option with the highest likelihood. Because we have two outputs, a positive review and a bad review, we just need to decide which one is more than 0.5, or greater than the opposing one. Equation can be used to calculate the probability sentiment (positive or negative) using provided reviews."
   ]
  },
  {
   "cell_type": "markdown",
   "id": "913e978d",
   "metadata": {},
   "source": [
    "$$P(\\textrm{sentiment review}|\\textrm{word1},\\textrm{word2},....,\\textrm{word n})$$"
   ]
  },
  {
   "cell_type": "markdown",
   "id": "59a631b6",
   "metadata": {},
   "source": [
    "However, because we don't have enough data, the equation above is a little difficult to calculate. It would be easier if we used the __Bayes Rule__ instead, as shown in the equation below."
   ]
  },
  {
   "cell_type": "markdown",
   "id": "863bd099",
   "metadata": {},
   "source": [
    "$$P(c|x)=\\frac{P(x|c)P(c)}{P(x)}$$"
   ]
  },
  {
   "cell_type": "markdown",
   "id": "dd5389d2",
   "metadata": {},
   "source": [
    "We're concentrating on maximising the probs related to sentiment analysis so that we can exclude P(x) from the equation above. The next problem is figuring out how to calculate P(x|c). As seen below, I employ chain conditional probability on P(x|c)."
   ]
  },
  {
   "cell_type": "markdown",
   "id": "c0669ee1",
   "metadata": {},
   "source": [
    "$$P(x|c)=P(x_1,x_2,x_3..,x_n|c)$$"
   ]
  },
  {
   "cell_type": "markdown",
   "id": "ff7519cd",
   "metadata": {},
   "source": [
    "$$P(x_1,x_2,x_3..,x_n|c)=P(x_1|c)P(x_2|c,x_1)P(x_3|c,x_1,x_2)...P(x_n|c,x_1,x2...,x_{n-1})$$"
   ]
  },
  {
   "cell_type": "markdown",
   "id": "8c8993eb",
   "metadata": {},
   "source": [
    "Additionally, we assume in each word (x) have conditionally independent because we are implementing __Uni-gram__. The equation will be more simple as below"
   ]
  },
  {
   "cell_type": "markdown",
   "id": "575f3f66",
   "metadata": {},
   "source": [
    "$$P(x|c)=P(x_1|c)P(x_2|c)P(x_3|c)...P(x_n|c)$$"
   ]
  },
  {
   "cell_type": "markdown",
   "id": "fb0f6d51",
   "metadata": {},
   "source": [
    "In conclusion, we derive P(c|x) more friendly equation as below."
   ]
  },
  {
   "cell_type": "markdown",
   "id": "ea6796f0",
   "metadata": {},
   "source": [
    "$$P(c|x)= P(c)P(x_1|c)P(x_2|c)P(x_3|c)...P(x_n|c)$$"
   ]
  },
  {
   "cell_type": "markdown",
   "id": "f924691c",
   "metadata": {},
   "source": [
    "Therefore, Training phase would focus on 2 parts of calculation as Probability of sentiment review P(c) and Problbilaty of particular word in each sentence"
   ]
  },
  {
   "cell_type": "markdown",
   "id": "cf7d4bbe",
   "metadata": {},
   "source": [
    "## Calculation : Probability of sentiment review P(c)"
   ]
  },
  {
   "cell_type": "code",
   "execution_count": 19,
   "id": "4439c3e8",
   "metadata": {},
   "outputs": [],
   "source": [
    "total_sentence_positive=0\n",
    "total_sentence_negative=0\n",
    "\n",
    "for i in y_train :\n",
    "    if i=='pos':\n",
    "        total_sentence_positive+=1\n",
    "    else:\n",
    "        total_sentence_negative+=1\n",
    "        \n",
    "prob_sentence_pos=total_sentence_positive/(total_sentence_positive+total_sentence_negative)\n",
    "prob_sentence_neg=total_sentence_negative/(total_sentence_positive+total_sentence_negative)"
   ]
  },
  {
   "cell_type": "code",
   "execution_count": 20,
   "id": "3ecc0b0d",
   "metadata": {},
   "outputs": [
    {
     "name": "stdout",
     "output_type": "stream",
     "text": [
      "Proportion of positive review in document: 0.5058823529411764\n",
      "Proportion of negative review in document: 0.49411764705882355\n"
     ]
    }
   ],
   "source": [
    "print(\"Proportion of positive review in document: {}\".format(prob_sentence_pos))\n",
    "print(\"Proportion of negative review in document: {}\".format(prob_sentence_neg))"
   ]
  },
  {
   "cell_type": "markdown",
   "id": "c0473344",
   "metadata": {},
   "source": [
    "## Calculation : Probability particular word would appear on each sentiment review P (xi | c)"
   ]
  },
  {
   "cell_type": "markdown",
   "id": "a3b6fc40",
   "metadata": {},
   "source": [
    "The fraction of times the word I appears among all words in all texts given sentiment c and the sum of times each word appears in sentiment c would yield $P(w_i|c)$. It's a little tricky at first, but once you see the equation and example, it'll be a lot easier.\n",
    "\n",
    "When $w_i$ does not exist on one of the sentiments c, the domenator of the fraction will be equal to 0. As a result, we must add one to the denominator and numerator."
   ]
  },
  {
   "cell_type": "markdown",
   "id": "842246e1",
   "metadata": {},
   "source": [
    "$$\\hat{P}(w_i|c)= \\frac{count(w_i,c)+1}{\\sum(count(w,c)+1)}$$"
   ]
  },
  {
   "cell_type": "markdown",
   "id": "b3130acc",
   "metadata": {},
   "source": [
    "## -- Run code to calculate numerator"
   ]
  },
  {
   "cell_type": "code",
   "execution_count": 21,
   "id": "7095a1ae",
   "metadata": {},
   "outputs": [],
   "source": [
    "## Calculate probpability\n",
    "total_word_positive=0\n",
    "total_word_negative=0\n",
    "\n",
    "for i,j in bag.items():\n",
    "    total_word_positive+=j[0]+1\n",
    "    total_word_negative+=j[1]+1\n",
    "\n"
   ]
  },
  {
   "cell_type": "code",
   "execution_count": 22,
   "id": "1bc4f08e",
   "metadata": {},
   "outputs": [
    {
     "name": "stdout",
     "output_type": "stream",
     "text": [
      "The numerator will equal to 122978 when sentiment c is positive.\n",
      "The numerator will equal to 131217 when sentiment c is negative.\n"
     ]
    }
   ],
   "source": [
    "print('The numerator will equal to {} when sentiment c is positive.'.format(total_word_positive))\n",
    "print('The numerator will equal to {} when sentiment c is negative.'.format(total_word_negative))"
   ]
  },
  {
   "cell_type": "markdown",
   "id": "dcd384bd",
   "metadata": {},
   "source": [
    "# -- Run code to calculate example denominator in word 'poor'"
   ]
  },
  {
   "cell_type": "code",
   "execution_count": 23,
   "id": "2d969489",
   "metadata": {},
   "outputs": [
    {
     "name": "stdout",
     "output_type": "stream",
     "text": [
      "Total times 'poor' appear on positive review from all document plus 1: 39\n",
      "Total times 'poor' appear on negative review from all document plus 1: 93\n"
     ]
    }
   ],
   "source": [
    "print(\"Total times 'poor' appear on positive review from all document plus 1: {}\".format(bag['poor'][0]+1))\n",
    "print(\"Total times 'poor' appear on negative review from all document plus 1: {}\".format(bag['poor'][1]+1))"
   ]
  },
  {
   "cell_type": "markdown",
   "id": "380f55e1",
   "metadata": {},
   "source": [
    "# -- Run code to calculate the $P(w_i | c)$"
   ]
  },
  {
   "cell_type": "code",
   "execution_count": 24,
   "id": "89e14be7",
   "metadata": {},
   "outputs": [],
   "source": [
    "prob_dict = {}\n",
    "\n",
    "for i in bag.keys() :\n",
    "    prob_i_p = (bag[i][0] + 1) / (total_word_positive)\n",
    "    prob_i_n = (bag[i][1] + 1) / (total_word_negative)\n",
    "    prob_dict[i] = [prob_i_p,prob_i_n]"
   ]
  },
  {
   "cell_type": "markdown",
   "id": "689a647c",
   "metadata": {},
   "source": [
    "# -- Interpreting example in word 'poor'"
   ]
  },
  {
   "cell_type": "code",
   "execution_count": 25,
   "id": "536292cc",
   "metadata": {},
   "outputs": [
    {
     "name": "stdout",
     "output_type": "stream",
     "text": [
      "prob_dict['poor'] : [0.0003171298931516206, 0.0007087496284780173]\n"
     ]
    }
   ],
   "source": [
    "print(\"prob_dict['poor'] : {}\".format(prob_dict['poor']))\n"
   ]
  },
  {
   "cell_type": "markdown",
   "id": "0e997a8d",
   "metadata": {},
   "source": [
    "If given review is positive sentiment, There is chance 0.0295% that sentence would contain 'poor' <br>\n",
    "If given review is negative sentiment, There is chance 0.0716% that sentence would contain 'poor'"
   ]
  },
  {
   "cell_type": "markdown",
   "id": "4df2ea3b",
   "metadata": {},
   "source": [
    "## Predict the label by using X_test (testing set)"
   ]
  },
  {
   "cell_type": "markdown",
   "id": "f82a6037",
   "metadata": {},
   "source": [
    "__Formular in calculation__ : <br>\n",
    "<br>\n",
    "$$P(+|review 1)= P(+)P(first word|+)P(second word|+)P(Thrid word|+)...P(Final word|+)$$ <br>\n",
    "<br>\n",
    "$$P(-|review 1)= P(-)P(first word|-)P(second word|-)P(Thrid word|-)...P(Final word|-)$$ <br>\n",
    "<br>\n",
    "Which one is higher. it will be the result of prediction.<br><br>__Note__:I'm going to tweak the formula a little because this calculation requires a lot of decimal numbers, which I can't do on Jupyter, so I'm going to use the Log function instead, which avoids underflow in computation and improves efficiency.<br><br>\n",
    "__Example__: Predict the label for first review."
   ]
  },
  {
   "cell_type": "code",
   "execution_count": 26,
   "id": "266417b0",
   "metadata": {},
   "outputs": [
    {
     "name": "stdout",
     "output_type": "stream",
     "text": [
      "From Prediction The first review is positive\n",
      "From real data The first review is pos\n"
     ]
    }
   ],
   "source": [
    "sentence=X_test[0]\n",
    "pos=numpy.log(prob_sentence_pos)\n",
    "neg=numpy.log(prob_sentence_neg)\n",
    "for x in sentence:\n",
    "    if x in prob_dict: #### the word from X_test which doesn't contain in bag would not be trained\n",
    "        pos += numpy.log(prob_dict[x][0])\n",
    "        neg += numpy.log(prob_dict[x][1])\n",
    "\n",
    "if pos > neg:\n",
    "    print('From Prediction The first review is positive')\n",
    "else:\n",
    "    print('From Prediction The first review is Negative')\n",
    "\n",
    "print(\"From real data The first review is {}\".format(y_test[0]))"
   ]
  },
  {
   "cell_type": "markdown",
   "id": "cc6bf139",
   "metadata": {},
   "source": [
    "## -- Run Full code to Predict label from X_test"
   ]
  },
  {
   "cell_type": "code",
   "execution_count": 27,
   "id": "dd6a1dfb",
   "metadata": {},
   "outputs": [],
   "source": [
    "y_predict=[]\n",
    "\n",
    "for sentence in X_test:\n",
    "    pos=prob_sentence_pos\n",
    "    neg=prob_sentence_neg\n",
    "    for x in sentence:\n",
    "        pos += numpy.log(prob_dict[x][0])\n",
    "        neg += numpy.log(prob_dict[x][1])\n",
    "    if pos>neg:\n",
    "        y_predict.append('pos')\n",
    "    else:\n",
    "        y_predict.append('neg')"
   ]
  },
  {
   "cell_type": "markdown",
   "id": "cee2f071",
   "metadata": {},
   "source": [
    "## 3. Accuracy and Confusion metric"
   ]
  },
  {
   "cell_type": "markdown",
   "id": "197ff53a",
   "metadata": {},
   "source": [
    "## -- Accuracy score"
   ]
  },
  {
   "cell_type": "code",
   "execution_count": 28,
   "id": "b214f9bf",
   "metadata": {},
   "outputs": [
    {
     "name": "stdout",
     "output_type": "stream",
     "text": [
      "The accuracy of classifier by Multinomial Classifier: 72.92%\n"
     ]
    }
   ],
   "source": [
    "score=accuracy_score(y_test, y_predict)\n",
    "print('The accuracy of classifier by Multinomial Classifier: {:.2%}'.format(score))"
   ]
  },
  {
   "cell_type": "markdown",
   "id": "81361ad3",
   "metadata": {},
   "source": [
    "## -- Confusion metric\n",
    "\n",
    "Confusion metric used to describe the performance of a classification model on a set of test data for which the true values are known. There are 4 values in confusion metric as following : True Positive , False Postive , True Negative and  False Negative <br><br>\n",
    "True Positive  : actual=1 predict=1 <br>\n",
    "False Positive : actual=0 predict=1 <br>\n",
    "True Negative  : actual=0 predict=0 <br>\n",
    "False Negative : actual=1 predict=0 <br>"
   ]
  },
  {
   "cell_type": "code",
   "execution_count": 29,
   "id": "fb4eec67",
   "metadata": {},
   "outputs": [
    {
     "data": {
      "image/png": "[encoded data removed]",
      "text/plain": [
       "<Figure size 1080x720 with 2 Axes>"
      ]
     },
     "metadata": {
      "needs_background": "light"
     },
     "output_type": "display_data"
    }
   ],
   "source": [
    "group_names = [\"True Negative\",\"False Positive\",\"False Negative\",\"True Positive\"]\n",
    "\n",
    "cf_matrix = confusion_matrix(y_test, y_predict)\n",
    "\n",
    "group_counts = [\"{0:0.0f}\".format(value) for value in cf_matrix.flatten()]\n",
    "\n",
    "group_percentages = [\"{0:.2%}\".format(value) for value in\n",
    "                     cf_matrix.flatten()/numpy.sum(cf_matrix)]\n",
    "\n",
    "labels = [f\"{v1}\\n{v2}\\n{v3}\" for v1, v2, v3 in\n",
    "          zip(group_names,group_counts,group_percentages)]\n",
    "\n",
    "labels = numpy.asarray(labels).reshape(2,2)\n",
    "\n",
    "categories = [\"Neg\", \"Pos\"]\n",
    "\n",
    "\n",
    "\n",
    "plt.figure(figsize=(15,10))\n",
    "ax = sns.heatmap(cf_matrix, annot=labels, fmt='', cmap='Blues', xticklabels=categories,yticklabels=categories,annot_kws={\"size\": 20})\n",
    "ax.set_ylabel('Predicted')    \n",
    "ax.set_xlabel('Actual')\n",
    "ax.set_title(\"Confusion Matrix For Task 1 - Uni-gram\")\n",
    "plt.show(ax)"
   ]
  },
  {
   "cell_type": "markdown",
   "id": "2a28e3dc",
   "metadata": {},
   "source": [
    "## Reference\n",
    "\n",
    "Daniel, J. and Martin, J. (n.d.). Speech and Language Processing. [online] Available at: https://web.stanford.edu/~jurafsky/slp3/4.pdf."
   ]
  },
  {
   "cell_type": "markdown",
   "id": "c5fc4d9a",
   "metadata": {},
   "source": [
    "# Task 2"
   ]
  },
  {
   "cell_type": "markdown",
   "id": "9f3d93bc",
   "metadata": {},
   "source": [
    "- identify an alternative classification algorithm, or\n",
    "- apply modifications to the Naïve Bayes implementation, for example trying different classification of different size n-grams (multi-word phrases). Implement this improvement and compare the results to your initial Naïve Bayes classifier. "
   ]
  },
  {
   "cell_type": "markdown",
   "id": "98d80537",
   "metadata": {},
   "source": [
    "We use Naive Bayes in each word of the phrase, as in the previous algorithm. When more complicated sentences, such as 'terrible,' emerge in our reviews, we are more likely to interpret this as a negative review. What if this statement contains the word 'not bad'? Uni-gram will miss the word 'not' and treat it as Negative instead of Positive. As a result, I would employ N-gram to solve such issues. You may view examples of Bi-gram and Tri-gram in this example to better grasp what is N-gram.\n",
    "\n",
    "***Uni-gram Example:***\n",
    "\n",
    "    Example Sentence: 'This Ford's series is not awful.'\n",
    "    After Uni-gram: [This],[Ford],[series],[is],[not],[awful]\n",
    "    \n",
    "***Bi-gram Example:***\n",
    "\n",
    "    Example Sentence: 'This Ford's series is not awful.'\n",
    "    After Bi-gram: [This,Ford],[series,is],[not,awful]\n",
    "\n",
    "***Tri-gram Example:***\n",
    "\n",
    "    Example Sentence: 'This Ford's series is not awful.'\n",
    "    After Bi-gram: [This,Ford,series],[is,not,awful]\n",
    "    \n",
    "    \n",
    "### What is N-gram ?\n",
    "N-gram is a consecutive order of n words from a given sample speech or text , in this task we imply as sample review. Usually The list would contain letters or words. in this task each list would contain the word.\n",
    "\n",
    "\n",
    "\n",
    "### Why use N-gram ?\n",
    "Simpleness and scalability are two significant advantages of n-gram model. Scalling up n allows a model to capture much information for trial to upgrade accuracy.\n",
    "\n",
    "### What i expect from this implementation?\n",
    "\n",
    "Anyway, I expected to observe a higher accuracy when comparing this method to the prior algorithm, but this method does not guarantee that analysts will achieve better accuracy when using more n because it is still dependent on the sentence's level of complexity.\n",
    "\n",
    "\n",
    "### Literature review\n",
    "According to Aisopos and George Papadakis' study, \"Sentiment Analysis of Social Media Content Using N-Gram Graphs.\" They choose to use Multinomial Naive Bayes in various n-grams. The results show that after preprocessing data and increasing the amount of words in each group, they gain an additional 10%.\n",
    "\n",
    "According to the study \"Sentiment Analysis Of Hotel Review Using N-Gram And Naive Bayes Methods\" by Widiyaningtyas, Zaeni, and Farisi [2], users are unable to filter out all of the reviews due to the large amount of reviews available. Sentiment analysis can help solve this problem by categorising reviews into positive or negative attitudes. The goal of this research is to see how n-gram and naive bayes algorithms may be used in sentiment analysis classification. The results demonstrate that when the analyst's n-gram increases, accuracy decreases. Furthermore, uni-gram accuracy is the best.\n",
    "\n",
    "### Reference\n",
    "Aisopos, F., Papadakis, G. and Varvarigou, T. (2011). Sentiment analysis of social media content using N-Gram graphs.<br><Br>\n",
    "Triyanna Widiyaningtyas, Ilham Ari Elbaith Zaeni and Riswanda Al Farisi (2020). Sentiment Analysis Of Hotel Review Using N-Gram And Naive Bayes Methods."
   ]
  },
  {
   "cell_type": "markdown",
   "id": "3baa501f",
   "metadata": {},
   "source": [
    "# How the model would be implement"
   ]
  },
  {
   "cell_type": "markdown",
   "id": "0dc7d177",
   "metadata": {},
   "source": [
    "In this section i will not start from scarcth as previuos task. <br><br>\n",
    "First, I'd convert the data to a dataframe using the pandas library's functions, then assign X to reviews (feature) and Y to sentiment reviews (label). Following that, they are divided into train and test sets in the same manner as Task 1. <br><br>\n",
    "Second, using __CounterVectorizer__, I would break the word from the training set in N-gram rule, including changing the alphabet to lower case and removing the stop word. <br><br>\n",
    "Finally,After training, i would apply this model with testing set and evaluate the accuracy.\n",
    "\n",
    "#### Let focus in  Setting CounterVectorizer\n",
    "\n",
    "Vectorizer should have CountVectorizer (Object) assigned to it (variable). It would apply the properties of attribute to X if I fit this object within dependant input data (X). The phrase would be transformed to lowercase (attribute lowercase), a stop word would be removed (attribute stop word), and the number of words to be extracted for each member in the sentence list (attribute ngram range) as shown in the code below.<br>\n",
    "\n",
    "ngram_range(1,1) : uni-gram <br>\n",
    "ngram_range(2,2) : bi-gram <br>\n",
    "ngram_range(3,3) : tri-gram <br>\n",
    "ngram_rnage(1,2) : uni+bi gram <br>"
   ]
  },
  {
   "cell_type": "markdown",
   "id": "0f935f59",
   "metadata": {},
   "source": [
    "## Bi-gram\n",
    "\n",
    "Set ngram_range to (2,2) "
   ]
  },
  {
   "cell_type": "code",
   "execution_count": 30,
   "id": "9e98e7bb",
   "metadata": {},
   "outputs": [
    {
     "name": "stdout",
     "output_type": "stream",
     "text": [
      "The accuray using Bi-gram is 71.12%\n"
     ]
    },
    {
     "data": {
      "image/png": "[encoded data removed]",
      "text/plain": [
       "<Figure size 1080x720 with 2 Axes>"
      ]
     },
     "metadata": {
      "needs_background": "light"
     },
     "output_type": "display_data"
    }
   ],
   "source": [
    "import pandas as pd\n",
    "from sklearn.feature_extraction.text import CountVectorizer\n",
    "from sklearn.naive_bayes import MultinomialNB\n",
    "from sklearn.metrics import plot_confusion_matrix\n",
    "\n",
    "car_reviews = pd.read_csv('car_reviews.csv')\n",
    "X = car_reviews['Review']\n",
    "y = car_reviews['Sentiment']\n",
    "X_train2, X_test2, y_train2, y_test2 = train_test_split(X, y, test_size=0.2,random_state=20)\n",
    "\n",
    "vectorizer = CountVectorizer(lowercase=True, stop_words='english', ngram_range=(2,2))\n",
    "X_train2 = vectorizer.fit_transform(X_train2)\n",
    "X_test2 = vectorizer.transform(X_test2)\n",
    "clf = MultinomialNB()\n",
    "clf.fit(X_train2, y_train2)\n",
    "y_predict2=clf.predict(X_test2)\n",
    "score2=accuracy_score(y_test2, y_predict2)\n",
    "print(\"The accuray using Bi-gram is {:.2%}\".format(score2))\n",
    "\n",
    "group_names = [\"True Negative\",\"False Positive\",\"False Negative\",\"True Positive\"]\n",
    "\n",
    "cf_matrix = confusion_matrix(y_test2, y_predict2)\n",
    "\n",
    "group_counts = [\"{0:0.0f}\".format(value) for value in cf_matrix.flatten()]\n",
    "\n",
    "group_percentages = [\"{0:.2%}\".format(value) for value in\n",
    "                     cf_matrix.flatten()/numpy.sum(cf_matrix)]\n",
    "\n",
    "labels = [f\"{v1}\\n{v2}\\n{v3}\" for v1, v2, v3 in\n",
    "          zip(group_names,group_counts,group_percentages)]\n",
    "\n",
    "labels = numpy.asarray(labels).reshape(2,2)\n",
    "\n",
    "categories = [\"Neg\", \"Pos\"]\n",
    "\n",
    "\n",
    "\n",
    "plt.figure(figsize=(15,10))\n",
    "ax = sns.heatmap(cf_matrix, annot=labels, fmt='', cmap='Blues', xticklabels=categories,yticklabels=categories,annot_kws={\"size\": 20})\n",
    "ax.set_ylabel('Predicted')    \n",
    "ax.set_xlabel('Actual')\n",
    "ax.set_title(\"Confusion Matrix For Task - Bi-gram \")\n",
    "plt.show(ax)"
   ]
  },
  {
   "cell_type": "markdown",
   "id": "ba9309d1",
   "metadata": {},
   "source": [
    "# Tri-gram\n",
    "\n",
    "set ngram_range to (3,3)"
   ]
  },
  {
   "cell_type": "code",
   "execution_count": 31,
   "id": "9839c326",
   "metadata": {},
   "outputs": [
    {
     "name": "stdout",
     "output_type": "stream",
     "text": [
      "The accuracy using Tri-gram is 57.76%\n"
     ]
    },
    {
     "data": {
      "image/png": "[encoded data removed]",
      "text/plain": [
       "<Figure size 1080x720 with 2 Axes>"
      ]
     },
     "metadata": {
      "needs_background": "light"
     },
     "output_type": "display_data"
    }
   ],
   "source": [
    "import pandas as pd\n",
    "from sklearn.feature_extraction.text import CountVectorizer\n",
    "from sklearn.naive_bayes import MultinomialNB\n",
    "from sklearn.metrics import plot_confusion_matrix\n",
    "\n",
    "car_reviews = pd.read_csv('car_reviews.csv')\n",
    "X = car_reviews['Review']\n",
    "y = car_reviews['Sentiment']\n",
    "X_train3, X_test3, y_train3, y_test3 = train_test_split(X, y, test_size=0.2,random_state=20)\n",
    "\n",
    "vectorizer = CountVectorizer(lowercase=True, stop_words='english', ngram_range=(3,3))\n",
    "X_train3 = vectorizer.fit_transform(X_train3)\n",
    "X_test3 = vectorizer.transform(X_test3)\n",
    "clf = MultinomialNB()\n",
    "clf.fit(X_train3, y_train3)\n",
    "y_predict3=clf.predict(X_test3)\n",
    "score3=accuracy_score(y_test3, y_predict3)\n",
    "print(\"The accuracy using Tri-gram is {:.2%}\".format(score3))\n",
    "\n",
    "group_names = [\"True Negative\",\"False Positive\",\"False Negative\",\"True Positive\"]\n",
    "\n",
    "cf_matrix = confusion_matrix(y_test2, y_predict2)\n",
    "\n",
    "group_counts = [\"{0:0.0f}\".format(value) for value in cf_matrix.flatten()]\n",
    "\n",
    "group_percentages = [\"{0:.2%}\".format(value) for value in\n",
    "                     cf_matrix.flatten()/numpy.sum(cf_matrix)]\n",
    "\n",
    "labels = [f\"{v1}\\n{v2}\\n{v3}\" for v1, v2, v3 in\n",
    "          zip(group_names,group_counts,group_percentages)]\n",
    "\n",
    "labels = numpy.asarray(labels).reshape(2,2)\n",
    "\n",
    "categories = [\"Neg\", \"Pos\"]\n",
    "\n",
    "\n",
    "\n",
    "plt.figure(figsize=(15,10))\n",
    "ax = sns.heatmap(cf_matrix, annot=labels, fmt='', cmap='Blues', xticklabels=categories,yticklabels=categories,annot_kws={\"size\": 20})\n",
    "ax.set_ylabel('Predicted')    \n",
    "ax.set_xlabel('Actual')\n",
    "ax.set_title(\"Confusion Matrix For Task Tri-gram --\")\n",
    "plt.show(ax)"
   ]
  },
  {
   "cell_type": "markdown",
   "id": "62a0fb17",
   "metadata": {},
   "source": [
    "## Reference\n",
    "\n",
    "Scikit-learn.org. (2018). sklearn.feature_extraction.text.CountVectorizer — scikit-learn 0.20.3 documentation. [online]Available at: https://scikit-learn.org/stable/modules/generated/sklearn.feature_extraction.text.CountVectorizer.html. <Br><br>\n",
    "Daniel, J. and Martin, J. (n.d.). Speech and Language Processing. [online] Available at: https://web.stanford.edu/~jurafsky/slp3/3.pdf.<br><br>\n",
    "Nair, A. (2021). Leveraging N-grams to Extract Context From Text. [online] Medium. Available at: https://towardsdatascience.com/leveraging-n-grams-to-extract-context-from-text-bdc576b47049 [Accessed 8 Jan. 2022]"
   ]
  },
  {
   "cell_type": "markdown",
   "id": "88e7195e",
   "metadata": {},
   "source": [
    "# Comparison Approaches"
   ]
  },
  {
   "cell_type": "markdown",
   "id": "fca9ef6d",
   "metadata": {},
   "source": [
    "### summary\n",
    "    Task 1 ----Uni-gram got accuracy at 72.92%\n",
    "    Task 2 ----Bi-gram got accuracy at 71.12%\n",
    "               Tri-gram got accuracy at 57.76%"
   ]
  },
  {
   "cell_type": "markdown",
   "id": "5fc7107d",
   "metadata": {},
   "source": [
    "The accuracy of the Bi-gram appears to be slightly lower than that of the uni-gram, while the accuracy of the Tri-gram looks to be substantially worse, as seen in the above data. As a result, this review dataset is the best fit for Uni-gram sentiment analysis. The reason for this is that The reviews provided are not unduly difficult to comprehend. Additionally, words with contradictory meanings are rarely combined.\n"
   ]
  },
  {
   "cell_type": "code",
   "execution_count": null,
   "id": "0a2738ce",
   "metadata": {},
   "outputs": [],
   "source": []
  }
 ],
 "metadata": {
  "kernelspec": {
   "display_name": "Python 3",
   "language": "python",
   "name": "python3"
  },
  "language_info": {
   "codemirror_mode": {
    "name": "ipython",
    "version": 3
   },
   "file_extension": ".py",
   "mimetype": "text/x-python",
   "name": "python",
   "nbconvert_exporter": "python",
   "pygments_lexer": "ipython3",
   "version": "3.8.8"
  }
 },
 "nbformat": 4,
 "nbformat_minor": 5
}
